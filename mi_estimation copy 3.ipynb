{
 "cells": [
  {
   "cell_type": "markdown",
   "metadata": {},
   "source": [
    "Mutual Information Estimation"
   ]
  },
  {
   "cell_type": "code",
   "execution_count": 1,
   "metadata": {},
   "outputs": [],
   "source": [
    "import argparse\n",
    "import collections\n",
    "import torch\n",
    "import numpy as np\n",
    "import data_loader.data_loaders as module_data\n",
    "import model.loss as module_loss\n",
    "import model.metric as module_metric\n",
    "import model.model as module_arch\n",
    "from parse_config import ConfigParser\n",
    "from trainer import Trainer\n",
    "from utils import prepare_device\n",
    "from experiments import get_experiment_config"
   ]
  },
  {
   "cell_type": "code",
   "execution_count": 2,
   "metadata": {},
   "outputs": [],
   "source": [
    "import matplotlib.pyplot as plt\n",
    "from sklearn.manifold import TSNE\n",
    "from sklearn.preprocessing import StandardScaler\n",
    "from tqdm import tqdm"
   ]
  },
  {
   "cell_type": "code",
   "execution_count": 3,
   "metadata": {},
   "outputs": [],
   "source": [
    "import torch\n",
    "import torch.nn as nn\n",
    "from torch.utils.data import Dataset,DataLoader, random_split\n",
    "# from torchvision import datasets\n",
    "# from torchvision.transforms import ToTensor\n",
    "from jax.nn import one_hot\n",
    "import math\n"
   ]
  },
  {
   "cell_type": "code",
   "execution_count": 4,
   "metadata": {},
   "outputs": [],
   "source": [
    "import pandas as pd"
   ]
  },
  {
   "cell_type": "code",
   "execution_count": 5,
   "metadata": {},
   "outputs": [
    {
     "name": "stdout",
     "output_type": "stream",
     "text": [
      "Namespace(config='config.json', resume=None, device=None, exp=1)\n",
      "<class 'argparse.Namespace'>\n",
      "Experiment 1 / 112:\n",
      "                USE_ECG: True\n",
      "                USE_HRV: True\n",
      "                USE_FEATURES: True\n",
      "                HRV_DURATION: 5m\n",
      "                ECG_DURATION: 1m\n",
      "                ADDITIONAL_FEATURES: ['newmultifracs', 'shannon_encoding', 'autoreg']                \n",
      "{'_config': OrderedDict([('name', 'MyTraining'), ('n_gpu', 1), ('arch', OrderedDict([('type', 'MyModel'), ('args', OrderedDict([('use_ecg_time_series', True), ('use_hrv_time_series', True), ('use_features', True)]))])), ('data_loader', OrderedDict([('type', 'MyDataLoader'), ('args', OrderedDict([('data_dir', 'data/data_patient'), ('batch_size', 16), ('shuffle', True), ('validation_split', 0.2), ('num_workers', 2), ('features_duration', '5m'), ('hrv_duration', '5m'), ('ecg_duration', '1m'), ('additional_feature_names', ['newmultifracs', 'shannon_encoding', 'autoreg'])]))])), ('optimizer', OrderedDict([('type', 'Adam'), ('args', OrderedDict([('lr', 0.001), ('amsgrad', True)]))])), ('loss', 'cross_entropy'), ('metrics', ['accuracy', 'top_k_acc']), ('lr_scheduler', OrderedDict([('type', 'StepLR'), ('args', OrderedDict([('step_size', 50), ('gamma', 0.9)]))])), ('trainer', OrderedDict([('epochs', 50), ('save_dir', 'saved/'), ('save_period', 10), ('verbosity', 2), ('monitor', 'min val_loss'), ('early_stop', 30), ('tensorboard', True)])), ('id', 1)]), 'resume': None, '_save_dir': WindowsPath('saved/models/MyTraining/1/1029_133547'), '_log_dir': WindowsPath('saved/log/MyTraining/1/1029_133547'), 'log_levels': {0: 30, 1: 20, 2: 10}}\n"
     ]
    }
   ],
   "source": [
    "args = argparse.ArgumentParser(description='PyTorch Template')\n",
    "args.add_argument('-c', '--config', default=None, type=str,\n",
    "                      help='config file path (default: None)')\n",
    "args.add_argument('-r', '--resume', default=None, type=str,\n",
    "                      help='path to latest checkpoint (default: None)')\n",
    "args.add_argument('-d', '--device', default=None, type=str,\n",
    "                  help='indices of GPUs to enable (default: all)')\n",
    "# args.add_argument(\"-e\", \"--exp\", type=int, required=True, help=\"Experiment id\")\n",
    "# args\n",
    "# args.c = \"config.json\"\n",
    "# \n",
    "\n",
    "args = args.parse_args(['-c','config.json',])\n",
    "args.exp = 1\n",
    "# batch_size = 10_000\n",
    "print(args)\n",
    "print(type(args))\n",
    "config = ConfigParser.from_args(args)\n",
    "config = get_experiment_config(config, config['id'])\n",
    "# config['data_loader']['args'][\"additional_feature_names\"] =  []\n",
    "print(config.__dict__)"
   ]
  },
  {
   "cell_type": "code",
   "execution_count": 6,
   "metadata": {},
   "outputs": [],
   "source": [
    "data_loader = config.init_obj('data_loader', module_data)"
   ]
  },
  {
   "cell_type": "code",
   "execution_count": 7,
   "metadata": {},
   "outputs": [
    {
     "name": "stdout",
     "output_type": "stream",
     "text": [
      "Unable to initialize backend 'rocm': module 'jaxlib.xla_extension' has no attribute 'GpuAllocatorConfig'\n",
      "Unable to initialize backend 'tpu': UNIMPLEMENTED: LoadPjrtPlugin is not implemented on windows yet.\n"
     ]
    }
   ],
   "source": [
    "dataset = data_loader.dataset\n",
    "data, label = dataset[:]\n",
    "Xecg = data[\"ecg_time_series\"].squeeze()\n",
    "Xhrv = data[\"hrv_time_series\"].squeeze()\n",
    "Xfeatures = data[\"features\"]\n",
    "\n",
    "Xecg = np.array(Xecg)\n",
    "Xhrv = np.array(Xhrv)\n",
    "\n",
    "features = np.array(Xfeatures)\n",
    "basic_features = features[:,:6]\n",
    "multifracs_features = features[:,6:10]\n",
    "auto_reg_features = features[:,11:16]\n",
    "shannon_features = features[:,16:]\n",
    "# Recg = np.array(Recg)\n",
    "# Rhrv = np.array(Rhrv)\n",
    "# R = np.array(R)\n",
    "label = np.array(label)\n",
    "y = label\n",
    "y_one_hot = np.array(one_hot(y,4))\n",
    "\n",
    "# i = 0\n",
    "# batch = 16\n",
    "# Recg = []\n",
    "# Rhrv = []\n",
    "\n",
    "# with torch.no_grad():\n",
    "#     while i*batch < Xecg.shape[0]:\n",
    "\n",
    "#         Recg.append(\n",
    "#             model.flatten(model.ecg_conv(Xecg[(i*batch):((i+1)*batch)].unsqueeze(1)))\n",
    "#         )\n",
    "#         Rhrv.append(\n",
    "#             model.flatten(model.hrv_conv(Xhrv[(i*batch):((i+1)*batch)].unsqueeze(1)))\n",
    "#         )\n",
    "#         i += 1\n",
    "# Recg = torch.cat(Recg,dim=0)\n",
    "# Rhrv = torch.cat(Rhrv,dim=0)\n",
    "# R = torch.cat([Recg,Rhrv,Xfeatures],dim=-1)"
   ]
  },
  {
   "cell_type": "code",
   "execution_count": 8,
   "metadata": {},
   "outputs": [],
   "source": [
    "# df_list = []\n",
    "# for X_ in [features,basic_features,multifracs_features,auto_reg_features,shannon_features]:\n",
    "#     res = evaluate_mi_and_acc(X_,label)\n",
    "#     print(res)\n",
    "#     df_list.append(deepcopy(res))\n",
    "# pd.DataFrame(df_list)"
   ]
  },
  {
   "cell_type": "code",
   "execution_count": null,
   "metadata": {},
   "outputs": [],
   "source": []
  },
  {
   "cell_type": "code",
   "execution_count": 9,
   "metadata": {},
   "outputs": [],
   "source": [
    "# data_loader = getattr(module_data, config['data_loader']['type'])(\n",
    "#         config['data_loader']['args']['data_dir'],\n",
    "#         batch_size=512,\n",
    "#         shuffle=False,\n",
    "#         validation_split=0.0,\n",
    "#         training=False,\n",
    "#         num_workers=2\n",
    "#     )\n",
    "\n",
    "# config['arch']['args']['feature_size'] = data_loader.dataset.get_feature_size()\n",
    "# config['arch']['args']['num_classes'] = data_loader.dataset.get_num_classes()\n",
    "\n",
    "# # build model architecture\n",
    "# model = config.init_obj('arch', module_arch)\n",
    "# # logger.info(model)\n",
    "\n",
    "# # get function handles of loss and metrics\n",
    "# loss_fn = getattr(module_loss, config['loss'])\n",
    "# metric_fns = [getattr(module_metric, met) for met in config['metrics']]\n",
    "\n",
    "# # logger.info('Loading checkpoint: {} ...'.format(config.resume))\n",
    "# checkpoint = torch.load(\"saved/models/MyTraining/0/0926_144845/model_best.pth\") # config.resume)\n",
    "# state_dict = checkpoint['state_dict']\n",
    "# # if config['n_gpu'] > 1:\n",
    "# #     model = torch.nn.DataParallel(model)\n",
    "# # state_dict = \n",
    "# model.load_state_dict(state_dict)\n",
    "\n",
    "# # prepare model for testing\n",
    "# device = torch.device('cuda' if torch.cuda.is_available() else 'cpu')\n",
    "# model = model.to(device)\n",
    "# model.eval()\n",
    "\n"
   ]
  },
  {
   "cell_type": "code",
   "execution_count": 10,
   "metadata": {},
   "outputs": [],
   "source": [
    "# dataset = data_loader.dataset\n",
    "# data, label = dataset[:]\n",
    "# Xecg = data[\"ecg_time_series\"].squeeze()\n",
    "# Xhrv = data[\"hrv_time_series\"].squeeze()\n",
    "# Xfeatures = data[\"features\"]\n",
    "\n",
    "# i = 0\n",
    "# batch = 16\n",
    "# Recg = []\n",
    "# Rhrv = []\n",
    "\n",
    "# with torch.no_grad():\n",
    "#     while i*batch < Xecg.shape[0]:\n",
    "\n",
    "#         Recg.append(\n",
    "#             model.flatten(model.ecg_conv(Xecg[(i*batch):((i+1)*batch)].unsqueeze(1)))\n",
    "#         )\n",
    "#         Rhrv.append(\n",
    "#             model.flatten(model.hrv_conv(Xhrv[(i*batch):((i+1)*batch)].unsqueeze(1)))\n",
    "#         )\n",
    "#         i += 1\n",
    "# Recg = torch.cat(Recg,dim=0)\n",
    "# Rhrv = torch.cat(Rhrv,dim=0)\n",
    "# R = torch.cat([Recg,Rhrv,Xfeatures],dim=-1)"
   ]
  },
  {
   "cell_type": "code",
   "execution_count": 11,
   "metadata": {},
   "outputs": [],
   "source": [
    "# Xecg = np.array(Xecg)\n",
    "# Xhrv = np.array(Xhrv)\n",
    "\n",
    "# features = np.array(Xfeatures)\n",
    "# basic_features = features[:,:6]\n",
    "# multifracs_features = features[:,6:10]\n",
    "# auto_reg_features = features[:,11:16]\n",
    "# shannon_features = features[:,16:]\n",
    "# # Recg = np.array(Recg)\n",
    "# # Rhrv = np.array(Rhrv)\n",
    "# # R = np.array(R)\n",
    "# label = np.array(label)\n",
    "# y = label\n",
    "# y_one_hot = np.array(one_hot(y,4))"
   ]
  },
  {
   "cell_type": "code",
   "execution_count": 12,
   "metadata": {},
   "outputs": [
    {
     "name": "stdout",
     "output_type": "stream",
     "text": [
      "importing Jupyter notebook from transformations.ipynb\n"
     ]
    }
   ],
   "source": [
    "import import_ipynb\n",
    "#from transformations import DataTransform,TransformationRegistry, IdentityTransform, FourierTransform, LowFourierTransform, LowPsdTransform, WaveDecTransform, DwtTransform, CwtTransform, AutoRegTransform, ShannonEncodingTransform, WaveletLeadersTransform, CrossCorTransform, AutoCorTransform, MultiFracsTransform, AutoEncoderTransform  \n",
    "from transformations import *\n",
    "# from data.prep_synth_data import create_synth_data\n",
    "registry = initialize_registry()"
   ]
  },
  {
   "cell_type": "code",
   "execution_count": 13,
   "metadata": {},
   "outputs": [],
   "source": [
    "registry.register('lexico',LexicoEntropy)"
   ]
  },
  {
   "cell_type": "code",
   "execution_count": 14,
   "metadata": {},
   "outputs": [],
   "source": [
    "import pyhrv"
   ]
  },
  {
   "cell_type": "code",
   "execution_count": 15,
   "metadata": {},
   "outputs": [],
   "source": [
    "from kymatio import Scattering1D"
   ]
  },
  {
   "cell_type": "code",
   "execution_count": 16,
   "metadata": {},
   "outputs": [],
   "source": [
    "J=4\n",
    "Q=(8,1)"
   ]
  },
  {
   "cell_type": "code",
   "execution_count": 24,
   "metadata": {},
   "outputs": [],
   "source": []
  },
  {
   "cell_type": "code",
   "execution_count": 17,
   "metadata": {},
   "outputs": [
    {
     "data": {
      "text/plain": [
       "(6480, 835)"
      ]
     },
     "execution_count": 17,
     "metadata": {},
     "output_type": "execute_result"
    }
   ],
   "source": [
    "Xhrv.shape"
   ]
  },
  {
   "cell_type": "code",
   "execution_count": 18,
   "metadata": {},
   "outputs": [],
   "source": [
    "# Xhrv = np.array(Xhrv,dtype=np.float32)"
   ]
  },
  {
   "cell_type": "code",
   "execution_count": 19,
   "metadata": {},
   "outputs": [
    {
     "data": {
      "text/plain": [
       "(6480, 835)"
      ]
     },
     "execution_count": 19,
     "metadata": {},
     "output_type": "execute_result"
    }
   ],
   "source": [
    "Xhrv.shape"
   ]
  },
  {
   "cell_type": "code",
   "execution_count": 20,
   "metadata": {},
   "outputs": [],
   "source": [
    "N = Xhrv.shape[-1]\n",
    "T = N\n",
    "scattering = Scattering1D(J, T, Q)\n",
    "Sx = []\n",
    "i=0\n",
    "batch=16\n",
    "while i*batch < Xhrv.shape[0]:\n",
    "\n",
    "    Sx.append(\n",
    "        scattering(Xhrv[(i*batch):((i+1)*batch),:])\n",
    "    )\n",
    "    i += 1\n",
    "Sxhrv = np.concatenate(Sx,axis=0)"
   ]
  },
  {
   "cell_type": "code",
   "execution_count": 21,
   "metadata": {},
   "outputs": [
    {
     "data": {
      "text/plain": [
       "835"
      ]
     },
     "execution_count": 21,
     "metadata": {},
     "output_type": "execute_result"
    }
   ],
   "source": [
    "N"
   ]
  },
  {
   "cell_type": "code",
   "execution_count": 37,
   "metadata": {},
   "outputs": [],
   "source": [
    "X = Xecg[0,:]"
   ]
  },
  {
   "cell_type": "code",
   "execution_count": 41,
   "metadata": {},
   "outputs": [
    {
     "data": {
      "text/plain": [
       "(13, 480)"
      ]
     },
     "execution_count": 41,
     "metadata": {},
     "output_type": "execute_result"
    }
   ],
   "source": []
  },
  {
   "cell_type": "code",
   "execution_count": 42,
   "metadata": {},
   "outputs": [],
   "source": [
    "Q=1\n",
    "N = Xecg.shape[-1]\n",
    "T = N\n",
    "scattering = Scattering1D(J, T, Q)\n",
    "# scattering(X).shape\n",
    "\n",
    "Sx = []\n",
    "i=0\n",
    "batch=16\n",
    "while i*batch < Xecg.shape[0]:\n",
    "\n",
    "    Sx.append(\n",
    "        scattering(Xecg[(i*batch):((i+1)*batch),:])\n",
    "    )\n",
    "    i += 1\n",
    "Sxecg = np.concatenate(Sx,axis=0)"
   ]
  },
  {
   "cell_type": "code",
   "execution_count": 43,
   "metadata": {},
   "outputs": [
    {
     "data": {
      "text/plain": [
       "(6480, 13, 480)"
      ]
     },
     "execution_count": 43,
     "metadata": {},
     "output_type": "execute_result"
    }
   ],
   "source": [
    "Sxecg.shape\n"
   ]
  },
  {
   "cell_type": "code",
   "execution_count": 44,
   "metadata": {},
   "outputs": [
    {
     "data": {
      "text/plain": [
       "[<matplotlib.lines.Line2D at 0x207fde13e90>]"
      ]
     },
     "execution_count": 44,
     "metadata": {},
     "output_type": "execute_result"
    },
    {
     "data": {
      "image/png": "[encoded data removed]",
      "text/plain": [
       "<Figure size 640x480 with 1 Axes>"
      ]
     },
     "metadata": {},
     "output_type": "display_data"
    }
   ],
   "source": [
    "i = 0\n",
    "plt.plot(Sxecg[np.random.randint(6480),i,:])"
   ]
  },
  {
   "cell_type": "code",
   "execution_count": null,
   "metadata": {},
   "outputs": [],
   "source": [
    "def test(X,y,channel):"
   ]
  },
  {
   "cell_type": "code",
   "execution_count": 30,
   "metadata": {},
   "outputs": [
    {
     "data": {
      "text/plain": [
       "[<matplotlib.lines.Line2D at 0x207cb4e0ed0>]"
      ]
     },
     "execution_count": 30,
     "metadata": {},
     "output_type": "execute_result"
    },
    {
     "data": {
      "image/png": "[encoded data removed]",
      "text/plain": [
       "<Figure size 640x480 with 1 Axes>"
      ]
     },
     "metadata": {},
     "output_type": "display_data"
    }
   ],
   "source": [
    "i = 0\n",
    "plt.plot(Sxhrv[np.random.randint(6480),i,:])"
   ]
  },
  {
   "cell_type": "code",
   "execution_count": 16,
   "metadata": {},
   "outputs": [],
   "source": [
    "# from kymatio.scattering1d.filter_bank import scattering_filter_factory"
   ]
  },
  {
   "cell_type": "code",
   "execution_count": 24,
   "metadata": {},
   "outputs": [
    {
     "ename": "ValueError",
     "evalue": "cannot reshape array of size 9347 into shape (2,newaxis)",
     "output_type": "error",
     "traceback": [
      "\u001b[1;31m---------------------------------------------------------------------------\u001b[0m",
      "\u001b[1;31mValueError\u001b[0m                                Traceback (most recent call last)",
      "Cell \u001b[1;32mIn[24], line 3\u001b[0m\n\u001b[0;32m      1\u001b[0m \u001b[38;5;28;01mfrom\u001b[39;00m \u001b[38;5;21;01mkymatio\u001b[39;00m\u001b[38;5;21;01m.\u001b[39;00m\u001b[38;5;21;01mscattering1d\u001b[39;00m\u001b[38;5;21;01m.\u001b[39;00m\u001b[38;5;21;01mfilter_bank\u001b[39;00m \u001b[38;5;28;01mimport\u001b[39;00m anden_generator, scattering_filter_factory\n\u001b[0;32m      2\u001b[0m filterbank \u001b[38;5;241m=\u001b[39m (anden_generator, {\u001b[38;5;124m\"\u001b[39m\u001b[38;5;124malpha\u001b[39m\u001b[38;5;124m\"\u001b[39m: \u001b[38;5;241m5\u001b[39m, \u001b[38;5;124m\"\u001b[39m\u001b[38;5;124mr_psi\u001b[39m\u001b[38;5;124m\"\u001b[39m: np\u001b[38;5;241m.\u001b[39msqrt(\u001b[38;5;241m1\u001b[39m\u001b[38;5;241m/\u001b[39m\u001b[38;5;241m2\u001b[39m), \u001b[38;5;124m\"\u001b[39m\u001b[38;5;124msigma0\u001b[39m\u001b[38;5;124m\"\u001b[39m: \u001b[38;5;241m5\u001b[39m})\n\u001b[1;32m----> 3\u001b[0m phi_f, psi1_f, psi2_f \u001b[38;5;241m=\u001b[39m scattering_filter_factory(N, J, Q, T, filterbank)\n",
      "File \u001b[1;32mc:\\users\\aejog\\documents\\stage-inria\\projets\\kymatio\\kymatio\\scattering1d\\filter_bank.py:398\u001b[0m, in \u001b[0;36mscattering_filter_factory\u001b[1;34m(N, J, Q, T, filterbank, _reduction)\u001b[0m\n\u001b[0;32m    396\u001b[0m phi_levels \u001b[38;5;241m=\u001b[39m [gauss_1d(N, sigma_low)]\n\u001b[0;32m    397\u001b[0m \u001b[38;5;28;01mfor\u001b[39;00m level \u001b[38;5;129;01min\u001b[39;00m \u001b[38;5;28mrange\u001b[39m(\u001b[38;5;241m1\u001b[39m, \u001b[38;5;28mmax\u001b[39m(previous_J, \u001b[38;5;241m1\u001b[39m\u001b[38;5;241m+\u001b[39mlog2_T)):\n\u001b[1;32m--> 398\u001b[0m     phi_level_reshaped \u001b[38;5;241m=\u001b[39m phi_levels[\u001b[38;5;241m0\u001b[39m]\u001b[38;5;241m.\u001b[39mreshape(\u001b[38;5;241m2\u001b[39m\u001b[38;5;241m*\u001b[39m\u001b[38;5;241m*\u001b[39mlevel, \u001b[38;5;241m-\u001b[39m\u001b[38;5;241m1\u001b[39m)\n\u001b[0;32m    399\u001b[0m     phi_level \u001b[38;5;241m=\u001b[39m _reduction(phi_level_reshaped, axis\u001b[38;5;241m=\u001b[39m\u001b[38;5;241m0\u001b[39m)\n\u001b[0;32m    400\u001b[0m     phi_levels\u001b[38;5;241m.\u001b[39mappend(phi_level)\n",
      "\u001b[1;31mValueError\u001b[0m: cannot reshape array of size 9347 into shape (2,newaxis)"
     ]
    }
   ],
   "source": [
    "# from kymatio.scattering1d.filter_bank import anden_generator, scattering_filter_factory\n",
    "# filterbank = (anden_generator, {\"alpha\": 5, \"r_psi\": np.sqrt(1/2), \"sigma0\": 5})\n",
    "# phi_f, psi1_f, psi2_f = scattering_filter_factory(N, J, Q, T, filterbank)"
   ]
  },
  {
   "cell_type": "code",
   "execution_count": null,
   "metadata": {},
   "outputs": [],
   "source": []
  },
  {
   "cell_type": "code",
   "execution_count": null,
   "metadata": {},
   "outputs": [],
   "source": []
  },
  {
   "cell_type": "code",
   "execution_count": 25,
   "metadata": {},
   "outputs": [],
   "source": [
    "# phi_f, psi1_f, psi2_f = scattering_filter_factory(T, J, Q, T,filterbank)"
   ]
  },
  {
   "cell_type": "code",
   "execution_count": null,
   "metadata": {},
   "outputs": [],
   "source": []
  },
  {
   "cell_type": "code",
   "execution_count": null,
   "metadata": {},
   "outputs": [],
   "source": [
    "stop"
   ]
  },
  {
   "cell_type": "code",
   "execution_count": null,
   "metadata": {},
   "outputs": [],
   "source": [
    "# for hrv in dataset.raw_hrv:\n",
    "#     result = pyhrv.hrv(nni=hrv,show=False, sampling_rate=128)\n",
    "    "
   ]
  },
  {
   "cell_type": "code",
   "execution_count": null,
   "metadata": {},
   "outputs": [],
   "source": [
    "# for hrv in dataset.raw_hrv:\n",
    "    \n",
    "#     result = pyhrv.hrv(nni=hrv,show=False, sampling_rate=128)\n",
    "    "
   ]
  },
  {
   "cell_type": "code",
   "execution_count": null,
   "metadata": {},
   "outputs": [],
   "source": [
    "# new_X = []\n",
    "\n",
    "# data_transformer = DataTransform(registry,save_data=False)\n",
    "# feature_to_add = 'pyhrv'\n",
    "# for hrv in dataset.raw_hrv:\n",
    "    \n",
    "#     # print(duration)\n",
    "#     try:\n",
    "#         # print(data_transformer.apply_transformation(hrv,feature_to_add).squeeze())\n",
    "        \n",
    "#         new_X.append( data_transformer.apply_transformation(hrv[None,:],feature_to_add).squeeze())\n",
    "#     except ValueError:\n",
    "#         print('o')\n",
    "# new_X = np.array(new_X)\n",
    "# saved_X[feature_to_add] = deepcopy(feature_to_add)"
   ]
  },
  {
   "cell_type": "code",
   "execution_count": 1,
   "metadata": {},
   "outputs": [
    {
     "ename": "NameError",
     "evalue": "name 'new_X' is not defined",
     "output_type": "error",
     "traceback": [
      "\u001b[1;31m---------------------------------------------------------------------------\u001b[0m",
      "\u001b[1;31mNameError\u001b[0m                                 Traceback (most recent call last)",
      "Cell \u001b[1;32mIn[1], line 1\u001b[0m\n\u001b[1;32m----> 1\u001b[0m new_X\u001b[38;5;241m.\u001b[39mshape\n",
      "\u001b[1;31mNameError\u001b[0m: name 'new_X' is not defined"
     ]
    }
   ],
   "source": [
    "new_X.shape"
   ]
  },
  {
   "cell_type": "code",
   "execution_count": 71,
   "metadata": {},
   "outputs": [
    {
     "data": {
      "text/plain": [
       "(6480,)"
      ]
     },
     "execution_count": 71,
     "metadata": {},
     "output_type": "execute_result"
    }
   ],
   "source": [
    "# new_X.shape"
   ]
  },
  {
   "cell_type": "code",
   "execution_count": 72,
   "metadata": {},
   "outputs": [
    {
     "name": "stdout",
     "output_type": "stream",
     "text": [
      "lexico\n"
     ]
    },
    {
     "name": "stderr",
     "output_type": "stream",
     "text": [
      "  8%|████                                                  | 750/10000 [00:10<02:03, 74.63step/s, test=0.16, train=0.13]\n"
     ]
    },
    {
     "name": "stdout",
     "output_type": "stream",
     "text": [
      "WARNING: Smoothed training MI fell compared to highest value: max=0.183 vs final=0.169\n"
     ]
    },
    {
     "name": "stderr",
     "output_type": "stream",
     "text": [
      "epoch: 100%|██████████| 100/100 [02:02<00:00,  1.22s/it]\n"
     ]
    },
    {
     "data": {
      "text/plain": [
       "{'KNN': 0.24049207792367433,\n",
       " 'KERNEL': 0.20362968517802338,\n",
       " 'MINE': 0.18936395645141602,\n",
       " 'KNIFE': 0.25356995519020686,\n",
       " 'ACCURACY': 0.4412037037037037}"
      ]
     },
     "execution_count": 72,
     "metadata": {},
     "output_type": "execute_result"
    }
   ],
   "source": [
    "# print(feature_to_add)\n",
    "\n",
    "# res = evaluate_mi_and_acc(new_X[:,None],label)\n",
    "# res"
   ]
  },
  {
   "cell_type": "code",
   "execution_count": 67,
   "metadata": {},
   "outputs": [
    {
     "data": {
      "text/plain": [
       "{'KNN': 0.5085069990041888,\n",
       " 'KERNEL': -0.3809187289303346,\n",
       " 'MINE': 0.43961119651794434,\n",
       " 'KNIFE': 0.5011519746699677,\n",
       " 'ACCURACY': 0.5950617283950618}"
      ]
     },
     "execution_count": 67,
     "metadata": {},
     "output_type": "execute_result"
    }
   ],
   "source": [
    "# res"
   ]
  },
  {
   "cell_type": "markdown",
   "metadata": {},
   "source": [
    "pointcare\n",
    "{'KNN': 0.5085069990041888,\n",
    " 'KERNEL': -0.3809187289303346,\n",
    " 'MINE': 0.43961119651794434,\n",
    " 'KNIFE': 0.5011519746699677,\n",
    " 'ACCURACY': 0.5950617283950618}\n",
    "\n",
    "lexico \n",
    "\n",
    "{'KNN': 0.24049207792367433,\n",
    " 'KERNEL': 0.20362968517802338,\n",
    " 'MINE': 0.18936395645141602,\n",
    " 'KNIFE': 0.25356995519020686,\n",
    " 'ACCURACY': 0.4412037037037037}"
   ]
  },
  {
   "cell_type": "code",
   "execution_count": 74,
   "metadata": {},
   "outputs": [],
   "source": [
    "# pointcare "
   ]
  },
  {
   "cell_type": "markdown",
   "metadata": {},
   "source": [
    "## Mutual Information Estimation\n",
    "### $I(R;Y)$"
   ]
  },
  {
   "cell_type": "code",
   "execution_count": 75,
   "metadata": {},
   "outputs": [
    {
     "name": "stdout",
     "output_type": "stream",
     "text": [
      "(200, 2)\n",
      "(200,)\n",
      "Reference MI =  0.6659017409639217\n",
      "Fast MI =  0.6659017409639175\n"
     ]
    }
   ],
   "source": [
    "\"\"\" Python implementation of the mutual information estimator proposed by\n",
    "Ross, 2014, \"Mutual Information between Discrete and Continuous Data Sets\",\n",
    "PLOS One. Computes mutual information between a continuous multidimensional\n",
    "variable and a discrete (categorical) variable, from an array of samples.\n",
    "The formula for this estimator is\n",
    "    $$ MI(X, Y) = psi(N) - <psi(N_x)> + psi(k) - <psi(m)> $$\n",
    "where:\n",
    "    - psi is the digamma function;\n",
    "    - N is the number of points;\n",
    "    - N_x is the number of points of category X=x;\n",
    "    - k is the number of nearest-neighbors of the same category used to\n",
    "        estimate the probability density;\n",
    "    - m is the number of nearest-neighbors of any category within the ball\n",
    "        extending up to the kth nearest-neighbor of the same category x;\n",
    "    - <psi(N_x)> and <psi(m)> are averaged over samples of X (each category\n",
    "        X=x is weighted by the number of occurences of x);\n",
    "Speed improved by vectorizing some operations, using Scipy's cKDTree\n",
    "for nearest-neighbor search, and using its multi-code capabilities.\n",
    "Includes a direct translation in Python of the original Matlab code\n",
    "provided by Ross 2014, for comparison (it is slower).\n",
    "WARNING: limited testing of the code was carried out. It worked fine on the\n",
    "test case provided below and for the authors' use cases, but results are not\n",
    "guaranteed in other applications (especially with very high-dimensional data).\n",
    "@authors: François Bourassa (frbourassa), Sooraj Achar (soorajachar)\n",
    "Spring 2021\n",
    "\"\"\"\n",
    "\n",
    "import numpy as np\n",
    "from scipy import special\n",
    "from scipy.spatial import cKDTree\n",
    "import psutil\n",
    "\n",
    "\n",
    "def discrete_continuous_info_fast(d, c, k=3, base=np.e, eps=0):\n",
    "    \"\"\"\n",
    "    Estimates mutual information between a discrete vector d and a continuous\n",
    "    vector c (can be multidimensional) using nearest-neighbor statistics.\n",
    "    Relatively fast Python implementation, using Scipy's cKDTree, of the\n",
    "    estimator described by Ross, 2014, \"Mutual Information between Discrete\n",
    "    and Continuous Data Sets\", PLOS One.\n",
    "    Similar to the estimator described by Kraskov et al., 2004,\n",
    "    \"Estimating Mutual Information\", PRE.\n",
    "    Author of this implementation: Francois Bourassa (Github: frbourassa)\n",
    "    Args:\n",
    "        d (np.array): Array of discrete categories. Should be 1-dimensional\n",
    "        c (np.array): Two-dimensional array or matrix of the continuous data.\n",
    "            Dimensions should be (n samples x f features)\n",
    "        k (int): Number of nearest neighbors for density estimation\n",
    "        base (float): Logarithm base in which the MI is computed (default: e)\n",
    "        eps (float): Relative tolerance on the radius up to which neighbors\n",
    "            are included (default: 0, exact computation).\n",
    "    Returns:\n",
    "        float: Mutual information estimate\n",
    "    \"\"\"\n",
    "    # Make sure d is an array to allow use of numpy functions\n",
    "    if type(d) is list:\n",
    "        d = np.asarray(d, dtype=type(d[0]))\n",
    "    if d.ndim > 1:\n",
    "        raise TypeError(\"d should be a 1d list or array\")\n",
    "\n",
    "    # First, prepare a list of categories according to the discrete symbols d\n",
    "    numDimensions = c.shape[0]\n",
    "    categories = list(np.unique(d))\n",
    "    num_d_symbols = len(categories)\n",
    "\n",
    "    # Build a KDTree of all points\n",
    "    main_tree = cKDTree(c, leafsize=max(16, int(k*numDimensions/4)))\n",
    "\n",
    "    # Number of workers for parallel processing, use half of them.\n",
    "    n_workers = min(1, psutil.cpu_count() // 2)\n",
    "\n",
    "    # Check that there are no exactly identical points\n",
    "    identical_pairs = main_tree.query_pairs(r=0.0, eps=0.0, output_type=\"ndarray\")\n",
    "    # If any, perturb them slightly to avoid numerical instabilities\n",
    "    dup_pts = np.unique(identical_pairs[:, 0])\n",
    "    if identical_pairs.shape[0] > 0:\n",
    "        # Average nn distance as a perturbation\n",
    "        perturb = 1e-6*np.mean(main_tree.query(c, k=[2])[0])\n",
    "        # Perturb the first point of each pair\n",
    "        c[dup_pts, :] = c[dup_pts, :] + perturb*(np.random.random(size=(dup_pts.shape[0], c.shape[1])) - 0.5)\n",
    "        # Update the tree\n",
    "        main_tree = cKDTree(c, leafsize=max(16, int(k*numDimensions/4)))\n",
    "\n",
    "    # Build an internal tree for each category\n",
    "    m_tot = 0\n",
    "    av_psi_Nd = 0\n",
    "    psi_ks = 0\n",
    "    for c_bin in range(num_d_symbols):\n",
    "         # Slice elements in that category, save indices\n",
    "        ii = (d == categories[c_bin]).nonzero()\n",
    "        c_split = c[ii]\n",
    "        numSamplesInBin = c_split.shape[0]\n",
    "        one_k = min(k, numSamplesInBin-1)\n",
    "\n",
    "        # For each point in the category, find the radius to its kth\n",
    "        # nearest-neighbor, and count how many points of any category\n",
    "        # are in that radius.\n",
    "        if one_k > 0:\n",
    "            # Build KDTree with leaf size one_k+2, since we won't need\n",
    "            # to go much further\n",
    "            categ_tree = cKDTree(c_split, leafsize=16)\n",
    "\n",
    "            # Go to one_k+1 because self point is included as a neighbors.\n",
    "            radii, indices = categ_tree.query(\n",
    "                                c_split, [one_k+1], eps=eps, workers=n_workers)\n",
    "\n",
    "            # For each, count how many total points are within that distance.\n",
    "            # Increase radii a little bit to make sure at least the one_k\n",
    "            # neighbours in the category are found back\n",
    "            # (float comparison issues in query in a different tree otherwise)\n",
    "            m_points_all = main_tree.query_ball_point(\n",
    "                                c_split, radii.ravel()*(1+1e-15), eps=eps,\n",
    "                                workers=n_workers, return_length=True)\n",
    "            m_points_all -= 1  # the query includes the point itself\n",
    "\n",
    "            # m_tot is \\sum_i (psi(m_i))\n",
    "            m_tot = m_tot + np.sum(special.psi(m_points_all))\n",
    "\n",
    "        else:  # There was a single point in the category.\n",
    "            m_tot = m_tot + special.psi(num_d_symbols*2)\n",
    "\n",
    "        # Probability of each category given by its relative abundance in d\n",
    "        p_d = numSamplesInBin/len(d)\n",
    "        # Running estimates of the average digamma terms in the estimator\n",
    "        av_psi_Nd += p_d*special.psi(p_d*len(d))\n",
    "        psi_ks = psi_ks + p_d * special.psi(max(one_k, 1))\n",
    "    # Computing the estimator\n",
    "    f = special.psi(len(d)) - av_psi_Nd + psi_ks - m_tot/len(d)\n",
    "    return f / np.log(base)\n",
    "\n",
    "\n",
    "def discrete_continuous_info_ref(d, c, k=3, base=np.exp(1)):\n",
    "    \"\"\"\n",
    "    Estimates the mutual information between a discrete vector 'd' and a\n",
    "    continuous vector 'c' using nearest-neighbor statistics.\n",
    "    Python translation of the estimator coded in Matlab\n",
    "    Ross, 2014, https://doi.org/10.1371/journal.pone.0087357\n",
    "    Similar to the estimator proposed by Kraskov et al., 2004,\n",
    "    \"Estimating Mutual Information\", PRE.\n",
    "    Author of the translation: Sooraj Achar (Github: soorajachar)\n",
    "    Parameters:\n",
    "        d (np.array): List of discrete categories. Should be 1 dimensional\n",
    "        c (np.matrix): Matrix of continuous data.\n",
    "            Dimensions should be n samples x f features\n",
    "        k (int): Number of nearest neighbors\n",
    "        base (float): Logarithm base in which the MI is computed (default: e)\n",
    "    Returns:\n",
    "        float: Mutual information estimate\n",
    "    \"\"\"\n",
    "    #Make sure d is an array to allow use of numpy functions\n",
    "    if type(d) is list:\n",
    "        d = np.array(d, dtype=str)\n",
    "    #Remove eventually\n",
    "    if c.shape[1] < c.shape[0]:\n",
    "        c = c.T\n",
    "    first_symbol = []\n",
    "    symbol_IDs = np.zeros(len(d))\n",
    "    c_split = []\n",
    "    cs_indices = []\n",
    "    num_d_symbols = -1\n",
    "    #First, bin the continuous data \"c\" according to the discrete symbols \"d\"\n",
    "    numDimensions = c.shape[0]\n",
    "    categories = list(np.unique(d))\n",
    "    num_d_symbols = len(categories)\n",
    "    for category in categories:\n",
    "        ii = np.where(d == category)[0]\n",
    "        cs_indices.append(ii)\n",
    "        #Flip later\n",
    "        c_split.append(c[:, ii])\n",
    "\n",
    "    m_tot = 0\n",
    "    av_psi_Nd = 0\n",
    "    all_c_distances = np.zeros(len(d))\n",
    "    psi_ks = 0\n",
    "    for c_bin in range(num_d_symbols):\n",
    "        numSamplesInBin = c_split[c_bin].shape[1]\n",
    "        one_k = min(k, numSamplesInBin-1)\n",
    "        if one_k > 0:\n",
    "            c_distances = np.zeros([numSamplesInBin])\n",
    "            for pivot in range(numSamplesInBin):\n",
    "                # find the radius of our volume using only those samples with\n",
    "                # the particular value of the discrete symbol 'd'\n",
    "                for cv in range(numSamplesInBin):\n",
    "                    vec_diff = (c_split[c_bin][:, cv]\n",
    "                                    - c_split[c_bin][:, pivot])\n",
    "                    vec_diff = np.reshape(vec_diff, (-1, c.shape[0])).T\n",
    "                    c_distances[cv] = np.sqrt(np.dot(vec_diff.T, vec_diff))\n",
    "                sorted_distances = np.sort(c_distances)\n",
    "                eps_over_2 = sorted_distances[one_k]   # don't count pivot\n",
    "\n",
    "                #count the number of total samples within our volume using all\n",
    "                #  samples (all values of 'd')\n",
    "                for cv in range(c.shape[1]):\n",
    "                    vec_diff = c[:, cv] - c_split[c_bin][:, pivot]\n",
    "                    vec_diff = np.reshape(vec_diff, (-1, c.shape[0])).T\n",
    "                    all_c_distances[cv] = np.sqrt(np.dot(vec_diff.T, vec_diff))\n",
    "                # Don't count pivot point\n",
    "                neigh_all_categs = np.where(all_c_distances <= eps_over_2)\n",
    "                m = max(len(all_c_distances[neigh_all_categs]) - 1, 0)\n",
    "                m_tot = m_tot + special.psi(m)\n",
    "\n",
    "        else:\n",
    "            m_tot = m_tot + special.psi(num_d_symbols*2)\n",
    "\n",
    "        p_d = numSamplesInBin/len(d)\n",
    "        av_psi_Nd = av_psi_Nd + p_d*special.psi(p_d*len(d))\n",
    "        psi_ks = psi_ks + p_d * special.psi(max(one_k, 1))\n",
    "\n",
    "    f = special.psi(len(d)) - av_psi_Nd + psi_ks - m_tot/len(d)\n",
    "    return f / np.log(base)\n",
    "\n",
    "\n",
    "if __name__ == \"__main__\":\n",
    "    # Some test case to make sure both approaches work the same way\n",
    "    nsamp = 50\n",
    "    data = np.zeros([nsamp*4, 2])\n",
    "    target = np.zeros(nsamp*4)\n",
    "    rndgen = np.random.default_rng(seed=12323452)\n",
    "    for i in range(4):\n",
    "        mean = np.asarray([i, i])\n",
    "        cov = np.eye(2)*(i+1)*0.75\n",
    "        data[nsamp*i:nsamp*(i+1)] = rndgen.multivariate_normal(\n",
    "                                            mean=mean, cov=cov, size=nsamp)\n",
    "        target[nsamp*i:nsamp*(i+1)] = i\n",
    "    print(data.shape)\n",
    "    print(target.shape)\n",
    "    # Reference algorithm with for loops\n",
    "    mi_ref = discrete_continuous_info_ref(target, data, k=3, base=2)\n",
    "    print(\"Reference MI = \", mi_ref)\n",
    "\n",
    "    # Fast, approximate algorithm using KDTrees and vectorized queries\n",
    "    mi_fast = discrete_continuous_info_fast(target, data, k=3, base=2)\n",
    "    msg = \"Difference too large to be true: found \"+str(mi_fast)\n",
    "    assert abs(mi_ref - mi_fast) < 1e-10, msg\n",
    "    print(\"Fast MI = \", mi_fast)"
   ]
  },
  {
   "cell_type": "code",
   "execution_count": 76,
   "metadata": {},
   "outputs": [],
   "source": [
    "# This code is heavily inspired by sklearn/feature_selection/_mutual_info.py,\n",
    "# which was written by Nikolay Mayorov <n59_ru@hotmail.com> under the 3-clause\n",
    "# BSD license.\n",
    "#\n",
    "# Author: Jannis Teunissen <jannis.teunissen@cwi.nl>\n",
    "\n",
    "import numpy as np\n",
    "from numpy.random import default_rng\n",
    "from scipy.special import digamma\n",
    "from sklearn.neighbors import KDTree\n",
    "\n",
    "\n",
    "def get_radius_kneighbors(x, n_neighbors):\n",
    "    \"\"\"Determine smallest radius around x containing n_neighbors neighbors\n",
    "\n",
    "    :param x: ndarray, shape (n_samples, n_dim)\n",
    "    :param n_neighbors: number of neighbors\n",
    "    :returns: radius, shape (n_samples,)\n",
    "\n",
    "    \"\"\"\n",
    "    # Use KDTree for simplicity (sometimes a ball tree could be faster)\n",
    "    kd = KDTree(x, metric=\"chebyshev\")\n",
    "\n",
    "    # Results include point itself, therefore n_neighbors+1\n",
    "    neigh_dist = kd.query(x, k=n_neighbors+1)[0]\n",
    "\n",
    "    # Take radius slightly larger than distance to last neighbor\n",
    "    radius = np.nextafter(neigh_dist[:, -1], 0)\n",
    "    return radius\n",
    "\n",
    "\n",
    "def num_points_within_radius(x, radius):\n",
    "    \"\"\"For each point, determine the number of other points within a given radius\n",
    "\n",
    "    :param x: ndarray, shape (n_samples, n_dim)\n",
    "    :param radius: radius, shape (n_samples,)\n",
    "    :returns: number of points within radius\n",
    "\n",
    "    \"\"\"\n",
    "    kd = KDTree(x, metric=\"chebyshev\")\n",
    "    nx = kd.query_radius(x, radius, count_only=True, return_distance=False)\n",
    "    return np.array(nx) - 1.0\n",
    "\n",
    "\n",
    "def preprocess_data(x):\n",
    "    \"\"\"Preprocess data. Ensure x is 2d ndarray, and scale so that the mean absolute\n",
    "    amplitude of each column is one.\n",
    "\n",
    "    :param x: ndarray, shape (n_samples,) or (n_samples, n_features)\n",
    "    :returns: float ndarray, shape (n_samples, n_features)\n",
    "\n",
    "    \"\"\"\n",
    "    x = np.array(x, dtype=np.float64)\n",
    "\n",
    "    if x.ndim == 1:\n",
    "        x = x.reshape(-1, 1)\n",
    "    elif x.ndim != 2:\n",
    "        raise ValueError(f'x.ndim = {x.ndim}, should be 1 or 2')\n",
    "\n",
    "    # Estimate mean absolute amplitude per column\n",
    "    means = np.maximum(1e-100, np.mean(np.abs(x), axis=0))\n",
    "\n",
    "    # Scale so that mean absolute amplitude is one\n",
    "    x = (1/means) * x\n",
    "\n",
    "    return x\n",
    "\n",
    "\n",
    "def add_noise(x, rng, noise_type='uniform', amplitude=1e-10):\n",
    "    \"\"\"Add noise so that samples are probably unique, and convert to float64\"\"\"\n",
    "\n",
    "    if noise_type == 'uniform':\n",
    "        x += amplitude * (rng.random(x.shape) - 0.5)\n",
    "    elif noise_type == 'normal':\n",
    "        x += amplitude * rng.normal(size=x.shape)\n",
    "    else:\n",
    "        raise ValueError('Invalid noise type')\n",
    "\n",
    "    return x\n",
    "\n",
    "\n",
    "def compute_mi(x, y, n_neighbors=3, noise_type=None):\n",
    "    \"\"\"Compute mutual information between two continuous variables.\n",
    "\n",
    "    :param x: real ndarray, shape (n_samples,) or (n_samples, n_features)\n",
    "    :param y: real ndarray, shape (n_samples,) or (n_samples, n_features)\n",
    "    :param n_neighbors: Number of nearest neighbors\n",
    "    :param noise_type: add noise of given type (uniform, normal)\n",
    "    :returns: non-negative estimate of mutual information\n",
    "\n",
    "    \"\"\"\n",
    "    n_samples = len(x)\n",
    "    x, y = [preprocess_data(t) for t in [x, y]]\n",
    "\n",
    "    if noise_type:\n",
    "        rng = default_rng()\n",
    "        x, y = [add_noise(t, rng, noise_type) for t in [x, y]]\n",
    "\n",
    "    xy = np.hstack((x, y))\n",
    "    k = np.full(n_samples, n_neighbors)\n",
    "    radius = get_radius_kneighbors(xy, n_neighbors)\n",
    "\n",
    "    if noise_type is None:\n",
    "        # Where radius is 0, determine multiplicity\n",
    "        mask = (radius == 0)\n",
    "        if mask.sum() > 0:\n",
    "            vals, ix, counts = np.unique(xy[mask], axis=0, return_inverse=True,\n",
    "                                         return_counts=True)\n",
    "            k[mask] = counts[ix] - 1\n",
    "\n",
    "    nx = num_points_within_radius(x, radius)\n",
    "    ny = num_points_within_radius(y, radius)\n",
    "\n",
    "    mi = max(0, digamma(n_samples) + np.mean(digamma(k))\n",
    "             - np.mean(digamma(nx + 1)) - np.mean(digamma(ny + 1)))\n",
    "    return mi\n",
    "\n",
    "\n",
    "def compute_cmi(x, y, z, n_neighbors=3, noise_type=None):\n",
    "    \"\"\"Compute conditional mutual information I(x;y|z)\n",
    "\n",
    "    :param x: real ndarray, shape (n_samples,) or (n_samples, n_features)\n",
    "    :param y: real ndarray, shape (n_samples,) or (n_samples, n_features)\n",
    "    :param z: real ndarray, shape (n_samples,) or (n_samples, n_features)\n",
    "    :param n_neighbors: Number of nearest neighbors\n",
    "    :param noise_type: add noise of given type (uniform, normal)\n",
    "    :returns: non-negative estimate of conditional mutual information\n",
    "\n",
    "    \"\"\"\n",
    "    n_samples = len(x)\n",
    "    x, y, z = [preprocess_data(t) for t in [x, y, z]]\n",
    "\n",
    "    if noise_type:\n",
    "        rng = default_rng()\n",
    "        x, y, z = [add_noise(t, rng, noise_type) for t in [x, y, z]]\n",
    "\n",
    "    xyz = np.hstack((x, y, z))\n",
    "    k = np.full(n_samples, n_neighbors)\n",
    "    radius = get_radius_kneighbors(xyz, n_neighbors)\n",
    "\n",
    "    if noise_type is None:\n",
    "        # Where radius is 0, determine multiplicity\n",
    "        mask = (radius == 0)\n",
    "        if mask.sum() > 0:\n",
    "            vals, ix, counts = np.unique(xyz[mask], axis=0,\n",
    "                                         return_inverse=True,\n",
    "                                         return_counts=True)\n",
    "            k[mask] = counts[ix] - 1\n",
    "\n",
    "    nxz = num_points_within_radius(np.hstack((x, z)), radius)\n",
    "    nyz = num_points_within_radius(np.hstack((y, z)), radius)\n",
    "    nz = num_points_within_radius(z, radius)\n",
    "\n",
    "    cmi = max(0, np.mean(digamma(k)) - np.mean(digamma(nxz + 1))\n",
    "              - np.mean(digamma(nyz + 1)) + np.mean(digamma(nz + 1)))\n",
    "    return cmi\n",
    "\n",
    "\n",
    "def compute_batch_mi(x, y, n_neighbors=3, noise_type=None):\n",
    "    N = len(x)\n",
    "    batch_size = 500\n",
    "    n_batches = N//batch_size\n",
    "    mi = np.zeros(n_batches)\n",
    "\n",
    "    for i in range(n_batches):\n",
    "        i0 = i * batch_size\n",
    "        i1 = i0 + batch_size\n",
    "        mi[i] = compute_mi(x[i0:i1], y[i0:i1], n_neighbors, noise_type)\n",
    "\n",
    "    return mi.mean()"
   ]
  },
  {
   "cell_type": "code",
   "execution_count": 58,
   "metadata": {},
   "outputs": [],
   "source": []
  },
  {
   "cell_type": "code",
   "execution_count": 77,
   "metadata": {},
   "outputs": [],
   "source": [
    "class BasicDataset(Dataset):\n",
    "    def __init__(self, X, Y):\n",
    "        self.X = torch.FloatTensor(X)\n",
    "        if torch.is_tensor(Y):\n",
    "            self.Y = Y\n",
    "        elif Y.dtype in [int,np.dtype('int64'),np.dtype('int32')] :\n",
    "            self.Y = torch.LongTensor(Y)\n",
    "        else:\n",
    "            self.Y = torch.FloatTensor(Y)\n",
    "        assert self.X.shape[0] == self.Y.shape[0]\n",
    "        \n",
    "    def __len__(self):\n",
    "        return self.X.shape[0]\n",
    "    \n",
    "    def __getitem__(self,idx):\n",
    "        return self.X[idx], self.Y[idx]"
   ]
  },
  {
   "cell_type": "code",
   "execution_count": 78,
   "metadata": {},
   "outputs": [],
   "source": [
    "class MLP(nn.Module):\n",
    "    def __init__(self, layer_sizes):\n",
    "        super(MLP, self).__init__()\n",
    "        \n",
    "        # Create a list of fully connected layers based on the layer sizes\n",
    "        layers = []\n",
    "        for i in range(len(layer_sizes) - 1):\n",
    "            layers.append(nn.Linear(layer_sizes[i], layer_sizes[i+1]))\n",
    "            if i < len(layer_sizes) - 2:  # Add ReLU activation after each layer except the last\n",
    "                layers.append(nn.ReLU())\n",
    "        \n",
    "        # Combine the layers into a Sequential container\n",
    "        self.network = nn.Sequential(*layers)\n",
    "    \n",
    "    def forward(self, x):\n",
    "        return self.network(x)"
   ]
  },
  {
   "cell_type": "code",
   "execution_count": 79,
   "metadata": {},
   "outputs": [],
   "source": [
    "import torch.nn.functional as F"
   ]
  },
  {
   "cell_type": "code",
   "execution_count": 195,
   "metadata": {},
   "outputs": [],
   "source": [
    "class SignalCNN(nn.Module):\n",
    "    def __init__(self, input_channels, num_classes):\n",
    "        super(SignalCNN, self).__init__()\n",
    "        self.conv1 = nn.Conv1d(input_channels, 16, kernel_size=3, padding=1)\n",
    "        self.conv2 = nn.Conv1d(16, 32, kernel_size=3, padding=1)\n",
    "        #self.conv3 = nn.Conv1d(32, 64, kernel_size=3, padding=1)\n",
    "        self.fc1 = nn.Linear(32, num_classes)\n",
    "\n",
    "    def forward(self, x):\n",
    "        x = F.relu(self.conv1(x))\n",
    "        x = F.relu(self.conv2(x))\n",
    "        #x = F.relu(self.conv3(x))\n",
    "        x = F.adaptive_avg_pool1d(x, 1)  # Aggregate the features (global pooling)\n",
    "        x = x.view(x.size(0), -1)  # Flatten\n",
    "        x = self.fc1(x)\n",
    "        return x"
   ]
  },
  {
   "cell_type": "code",
   "execution_count": 196,
   "metadata": {},
   "outputs": [],
   "source": [
    "class MLPClassifier(nn.Module):\n",
    "    def __init__(self, input_size=32, *args, **kwargs):\n",
    "        super().__init__(*args, **kwargs)\n",
    "        self.cnn = SignalCNN(1,32)\n",
    "        hidden_size = 32 #min(64,max(16,input_size))\n",
    "        \n",
    "        self.mlp = MLP([hidden_size,hidden_size,hidden_size,4])\n",
    "\n",
    "    def forward(self,x):\n",
    "        x = self.cnn(x)\n",
    "        return self.mlp(x)"
   ]
  },
  {
   "cell_type": "code",
   "execution_count": 197,
   "metadata": {},
   "outputs": [],
   "source": [
    "# exp = Sxecg[4:8,1,:]\n",
    "# exp = torch.FloatTensor(exp)[:,None,:]\n",
    "# cnn = SignalCNN(1,32)\n"
   ]
  },
  {
   "cell_type": "code",
   "execution_count": 198,
   "metadata": {},
   "outputs": [],
   "source": [
    "# torch.randn_like(exp)"
   ]
  },
  {
   "cell_type": "code",
   "execution_count": 199,
   "metadata": {},
   "outputs": [],
   "source": [
    "# exp = torch.randn_like(exp)\n",
    "# cnn(exp)"
   ]
  },
  {
   "cell_type": "code",
   "execution_count": 200,
   "metadata": {},
   "outputs": [],
   "source": [
    "class MINE(nn.Module):\n",
    "    def __init__(self,zc_dim, zd_dim):\n",
    "        super(MINE, self).__init__()\n",
    "        # self.convnet = convnet\n",
    "        self.net = nn.Sequential(nn.Linear(zc_dim+zd_dim,32),\n",
    "                                 nn.ReLU(),\n",
    "                                 nn.Linear(32,32),\n",
    "                                 nn.ReLU(),\n",
    "                                 nn.Linear(32,32),\n",
    "                                 nn.ReLU(),\n",
    "                                 nn.Linear(32,1))#FF(args, zc_dim + zd_dim, zc_dim, 1)\n",
    "\n",
    "    def forward(self, z_c, z_d,y=0):  # samples have shape [sample_size, dim]\n",
    "        # shuffle and concatenate\n",
    "        # z_c = self.convnet(z_c)\n",
    "        sample_size = z_d.shape[0]\n",
    "        random_index = torch.randint(sample_size, (sample_size,)).long()\n",
    "\n",
    "        z_d_shuffle = z_d[random_index]\n",
    "\n",
    "        T0 = self.net(torch.cat([z_c, z_d], dim=-1))\n",
    "        T1 = self.net(torch.cat([z_c, z_d_shuffle], dim=-1))\n",
    "\n",
    "        mi = T0.mean() - (T1.squeeze().logsumexp(0) - math.log(sample_size))\n",
    "        return mi, 0., 0.\n",
    "\n",
    "    def learning_loss(self, z_c, z_d,y=0):\n",
    "        return - self(z_c, z_d)[0]"
   ]
  },
  {
   "cell_type": "code",
   "execution_count": 260,
   "metadata": {},
   "outputs": [],
   "source": [
    "class KNIFE(nn.Module):\n",
    "    def __init__(self, zc_dim, zd_dim,batch_size = 32):\n",
    "        super(KNIFE, self).__init__()\n",
    "        self.kernel_marg = MargKernel(zc_dim, zd_dim,batch_size=batch_size)\n",
    "        self.kernel_cond = CondKernel(zc_dim, zd_dim,batch_size=batch_size)\n",
    "\n",
    "    def forward(self, z_c, z_d):  # samples have shape [sample_size, dim]\n",
    "        marg_ent = self.kernel_marg(z_d)\n",
    "        cond_ent = self.kernel_cond(z_c, z_d)\n",
    "        return marg_ent - cond_ent, marg_ent, cond_ent\n",
    "\n",
    "    def learning_loss(self, z_c, z_d):\n",
    "        marg_ent = self.kernel_marg(z_d)\n",
    "        cond_ent = self.kernel_cond(z_c, z_d)\n",
    "        return marg_ent + cond_ent\n",
    "\n",
    "    def I(self, *args, **kwargs):\n",
    "        return self.forward(*args[:2], **kwargs)[0]\n",
    "\n",
    "\n",
    "class MargKernel(nn.Module):\n",
    "    \"\"\"\n",
    "    Used to compute p(z_d)\n",
    "    \"\"\"\n",
    "\n",
    "    def __init__(self, zc_dim, zd_dim, batch_size = 32, init_samples=None):\n",
    "\n",
    "        self.optimize_mu = True #args.optimize_mu\n",
    "        self.K = batch_size #args.marg_modes if self.optimize_mu else args.batch_size\n",
    "        self.d = zd_dim#zc_dim\n",
    "        self.use_tanh = True# args.use_tanh\n",
    "        self.init_std = 0.1 #args.init_std\n",
    "        super(MargKernel, self).__init__()\n",
    "\n",
    "        self.logC = torch.tensor([-self.d / 2 * np.log(2 * np.pi)])\n",
    "\n",
    "        if init_samples is None:\n",
    "            init_samples = self.init_std * torch.randn(self.K, self.d)\n",
    "        # self.means = nn.Parameter(torch.rand(self.K, self.d), requires_grad=True)\n",
    "        if self.optimize_mu:\n",
    "            self.means = nn.Parameter(init_samples, requires_grad=True)  # [K, db]\n",
    "        else:\n",
    "            self.means = nn.Parameter(init_samples, requires_grad=False)\n",
    "\n",
    "        if False: #args.cov_diagonal == 'var':\n",
    "            diag = self.init_std * torch.randn((1, self.K, self.d))\n",
    "        else:\n",
    "            diag = self.init_std * torch.randn((1, 1, self.d))\n",
    "        self.logvar = nn.Parameter(diag, requires_grad=True)\n",
    "\n",
    "        if False: #args.cov_off_diagonal == 'var':\n",
    "            tri = self.init_std * torch.randn((1, self.K, self.d, self.d))\n",
    "            tri = tri.to(init_samples.dtype)\n",
    "            self.tri = nn.Parameter(tri, requires_grad=True)\n",
    "        else:\n",
    "            self.tri = None\n",
    "\n",
    "        weigh = torch.ones((1, self.K))\n",
    "        if False: #args.average == 'var':\n",
    "            self.weigh = nn.Parameter(weigh, requires_grad=True)\n",
    "        else:\n",
    "            self.weigh = nn.Parameter(weigh, requires_grad=False)\n",
    "\n",
    "    def logpdf(self, x):\n",
    "        # print(x.shape)\n",
    "        assert len(x.shape) == 2 and x.shape[1] == self.d, 'x has to have shape [N, d]'\n",
    "        x = x[:, None, :]\n",
    "        w = torch.log_softmax(self.weigh, dim=1)\n",
    "        y = x - self.means\n",
    "        logvar = self.logvar\n",
    "        if self.use_tanh:\n",
    "            logvar = logvar.tanh()\n",
    "        var = logvar.exp()\n",
    "        y = y * var\n",
    "        # print(f\"Marg : {var.min()} | {var.max()} | {var.mean()}\")\n",
    "        if self.tri is not None:\n",
    "            y = y + torch.squeeze(torch.matmul(torch.tril(self.tri, diagonal=-1), y[:, :, :, None]), 3)\n",
    "        y = torch.sum(y ** 2, dim=2)\n",
    "\n",
    "        y = -y / 2 + torch.sum(torch.log(torch.abs(var) + 1e-8), dim=-1) + w\n",
    "        y = torch.logsumexp(y, dim=-1)\n",
    "        return self.logC.to(y.device) + y\n",
    "\n",
    "    def update_parameters(self, z):\n",
    "        self.means = z\n",
    "\n",
    "    def forward(self, x):\n",
    "        y = -self.logpdf(x)\n",
    "        return torch.mean(y)\n",
    "\n",
    "\n",
    "class CondKernel(nn.Module):\n",
    "    \"\"\"\n",
    "    Used to compute p(z_d | z_c)\n",
    "    \"\"\"\n",
    "\n",
    "    def __init__(self, zc_dim, zd_dim, batch_size = 32, layers=1):\n",
    "        super(CondKernel, self).__init__()\n",
    "        self.K, self.d = batch_size, zd_dim\n",
    "        self.use_tanh = True # args.use_tanh\n",
    "        self.logC = torch.tensor([-self.d / 2 * np.log(2 * np.pi)])\n",
    "\n",
    "        self.mu = nn.Sequential(SignalCNN(1,32),MLP([32,32,self.K*zd_dim])) #FF(args, zc_dim, self.d, self.K * zd_dim)\n",
    "        self.logvar = nn.Sequential(SignalCNN(1,32),MLP([32,32,self.K*zd_dim])) # MLP([zc_dim,32,32,self.K*zd_dim])# FF(args, zc_dim, self.d, self.K * zd_dim)\n",
    "\n",
    "        self.weight =nn.Sequential(SignalCNN(1,32),MLP([32,32,self.K]))# MLP([zc_dim,32,32,self.K]) #FF(args, zc_dim, self.d, self.K)\n",
    "        self.tri = None\n",
    "        if False: #args.cov_off_diagonal == 'var':\n",
    "            self.tri =   MLP([zc_dim,32,32,self.K * zd_dim ** 2]) #FF(args, zc_dim, self.d, self.K * zd_dim ** 2)\n",
    "        self.zc_dim = zc_dim\n",
    "\n",
    "    def logpdf(self, z_c, z_d):  # H(z_d|z_c)\n",
    "\n",
    "        z_d = z_d[:, None, :]  # [N, 1, d]\n",
    "\n",
    "        w = torch.log_softmax(self.weight(z_c), dim=-1)  # [N, K]\n",
    "        mu = self.mu(z_c)\n",
    "        logvar = self.logvar(z_c)\n",
    "        if self.use_tanh:\n",
    "            logvar = logvar.tanh()\n",
    "        var = logvar.exp().reshape(-1, self.K, self.d)\n",
    "        mu = mu.reshape(-1, self.K, self.d)\n",
    "        # print(f\"Cond : {var.min()} | {var.max()} | {var.mean()}\")\n",
    "\n",
    "        z = z_d - mu  # [N, K, d]\n",
    "        z = var * z\n",
    "        if self.tri is not None:\n",
    "            tri = self.tri(z_c).reshape(-1, self.K, self.d, self.d)\n",
    "            z = z + torch.squeeze(torch.matmul(torch.tril(tri, diagonal=-1), z[:, :, :, None]), 3)\n",
    "        z = torch.sum(z ** 2, dim=-1)  # [N, K]\n",
    "\n",
    "        z = -z / 2 + torch.log(torch.abs(var) + 1e-8).sum(-1) + w\n",
    "        z = torch.logsumexp(z, dim=-1)\n",
    "        return self.logC.to(z.device) + z\n",
    "\n",
    "    def forward(self, z_c, z_d):\n",
    "        z = -self.logpdf(z_c, z_d)\n",
    "        return torch.mean(z)"
   ]
  },
  {
   "cell_type": "code",
   "execution_count": 261,
   "metadata": {},
   "outputs": [],
   "source": [
    "def accuracy(output, target):\n",
    "        with torch.no_grad():\n",
    "            pred = torch.argmax(output, dim=1)\n",
    "            # print(pred.shape,target.shape)\n",
    "            assert pred.shape[0] == len(target)\n",
    "            correct = 0\n",
    "            correct += torch.sum(pred == target).item()\n",
    "        return correct / len(target)"
   ]
  },
  {
   "cell_type": "code",
   "execution_count": 262,
   "metadata": {},
   "outputs": [],
   "source": [
    "def train_mlp_classifier(dataset,show=False, learning_rate = 1e-3, batch_size=64, epochs = 100):\n",
    "    # Initialize model, loss function, and optimizer\n",
    "\n",
    "    model = MLPClassifier()\n",
    "    criterion = nn.CrossEntropyLoss()\n",
    "    optimizer = torch.optim.Adam(model.parameters(), lr=learning_rate)\n",
    "\n",
    "    batch_size = 64\n",
    "    train_ratio = 0.8\n",
    "    train_size = int(train_ratio * len(dataset))\n",
    "    test_size = len(dataset) - train_size\n",
    "    train_dataset, test_dataset = random_split(dataset, [train_size, test_size])\n",
    "\n",
    "    # Create DataLoaders for the training and testing sets\n",
    "    train_loader = DataLoader(train_dataset, batch_size=batch_size, shuffle=True)\n",
    "    # test_loader = DataLoader(test_dataset, batch_size=batch_size, shuffle=False)\n",
    "    # Training loop\n",
    "    test_accs = []\n",
    "    test_losses = []\n",
    "    train_losses = []\n",
    "    for epoch in range(epochs):\n",
    "        for i, (inputs, labels) in enumerate(train_loader):\n",
    "            # Forward pass\n",
    "            outputs = model(inputs)\n",
    "            loss = criterion(outputs, labels)\n",
    "            \n",
    "            # Backward pass and optimization\n",
    "            optimizer.zero_grad()\n",
    "            loss.backward()\n",
    "            train_losses.append(loss.item())\n",
    "            optimizer.step()\n",
    "\n",
    "            # if (i+1) % 10 == 0:  # Print every 10 batches\n",
    "            #     print(f'Epoch [{epoch+1}/{epochs}], Step [{i+1}/{len(train_loader)}], Loss: {loss.item():.4f}', end=\"\\r\")\n",
    "            #     with torch.no_grad():\n",
    "            #         data, label = test_dataset.dataset[:]\n",
    "            #         pred = model(data)\n",
    "            #         acc = accuracy(pred,label)\n",
    "            #         loss = criterion(pred,label).item()\n",
    "            #         test_losses.append(loss)\n",
    "            #         test_accs.append(acc)\n",
    "    \n",
    "    model.eval()\n",
    "    with torch.no_grad():\n",
    "        data, label = test_dataset.dataset[:]\n",
    "        pred = model(data)\n",
    "        acc = accuracy(pred,label)\n",
    "        loss = criterion(pred,label).item()\n",
    "    if show:\n",
    "        plt.plot(train_losses)\n",
    "        plt.show()\n",
    "        plt.plot(test_losses)\n",
    "        plt.show()\n",
    "        plt.plot(test_accs)\n",
    "        plt.show()\n",
    "    return loss, acc\n",
    "\n",
    "    print(\"Training complete.\")"
   ]
  },
  {
   "cell_type": "code",
   "execution_count": 263,
   "metadata": {},
   "outputs": [],
   "source": [
    "def train_mi_estimator(model, dataset, learning_rate = 1e-3, batch_size=64, epochs = 100):\n",
    "    # learning_rate = 1e-3\n",
    "    optimizer = torch.optim.Adam(model.parameters(), learning_rate)\n",
    "    data_loader = DataLoader(dataset, batch_size=batch_size, shuffle=True)\n",
    "    mi_est_values = []\n",
    "    # test_mi_est_values = []\n",
    "    for epoch in tqdm(range(epochs), 'epoch'):\n",
    "        # rho = mi_to_ri_ho(mi_value, sample_dim)\n",
    "        for batch_x, batch_y in data_loader:\n",
    "            # print(batch_x.shape)\n",
    "            # print(batch_y.shape)\n",
    "        # for step in tqdm(range(training_steps), 'Training Loop', position=0, leave=True):\n",
    "        #     batch_x, batch_y = sample_correlated_gaussian(rho, dim=sample_dim, batch_size=batch_size,\n",
    "        #                                                     to_cuda=torch.cuda.is_available(), cubic=cubic)\n",
    "            # batch_x = torch.tensor(batch_x).float().to(device)\n",
    "            # batch_y = torch.tensor(batch_y).float().to(device)\n",
    "            model.eval()\n",
    "            mi_est, _, _ = model(batch_x, batch_y)\n",
    "            mi_est_values.append(mi_est.item())\n",
    "            # print('train ', mi_est)\n",
    "            model.train()\n",
    "\n",
    "            model_loss = model.learning_loss(batch_x, batch_y)# batch_label)\n",
    "\n",
    "            optimizer.zero_grad()\n",
    "            model_loss.backward()\n",
    "            optimizer.step()\n",
    "\n",
    "            # del batch_x, batch_y, batch_label\n",
    "            if torch.cuda.is_available():\n",
    "                torch.cuda.empty_cache()\n",
    "\n",
    "            #test_mean_mi_est_values.append(s/n)\n",
    "\n",
    "        #print(\"finish training for %s with true MI value = %f\" % (model.__class__.__name__, mi_value))\n",
    "        # torch.save(model.state_dict(), \"./model/%s_%d.pt\" % (model.__class__.__name__, int(mi_value)))\n",
    "\n",
    "        if torch.cuda.is_available():\n",
    "            torch.cuda.empty_cache()\n",
    "    return model\n",
    "        "
   ]
  },
  {
   "cell_type": "code",
   "execution_count": 283,
   "metadata": {},
   "outputs": [],
   "source": [
    "def get_mutual_information(X, Y, y_categorial = True, show=False):\n",
    "    res = []\n",
    "    mi_fast = discrete_continuous_info_fast(c=X, d=Y, k=10, base=2,eps=1e-5)\n",
    "    res.append(mi_fast)\n",
    "\n",
    "    Y_one_hot = np.array(one_hot(Y,num_classes=4))\n",
    "    data_set = BasicDataset(X,Y_one_hot)\n",
    "    zc_dim, zd_dim = X.shape[-1], Y_one_hot.shape[-1]\n",
    "    for model_class in [MINE, KNIFE]:\n",
    "        model = model_class(zc_dim,zd_dim)\n",
    "        model = train_mi_estimator(model,data_set)\n",
    "        model.eval()\n",
    "        mi = model(data_set.X,data_set.Y)[0].item()\n",
    "        res.append(mi)\n",
    "    mi, acc = train_mlp_classifier( BasicDataset(X[:,0,:],Y),show=show)\n",
    "    res.append(mi)\n",
    "    res.append(acc)\n",
    "    return res"
   ]
  },
  {
   "cell_type": "code",
   "execution_count": 265,
   "metadata": {},
   "outputs": [],
   "source": [
    "import bmi"
   ]
  },
  {
   "cell_type": "code",
   "execution_count": 266,
   "metadata": {},
   "outputs": [],
   "source": [
    "def knife(X,y):\n",
    "    zc_dim, zd_dim = X.shape[-1], y.shape[-1]\n",
    "    model = KNIFE(zc_dim,zd_dim)\n",
    "    dataset = BasicDataset(X,y)\n",
    "    model = train_mi_estimator(model,dataset)\n",
    "    model.eval()\n",
    "    mi = model(dataset.X,dataset.Y)[0].item()\n",
    "    return mi"
   ]
  },
  {
   "cell_type": "code",
   "execution_count": 267,
   "metadata": {},
   "outputs": [],
   "source": [
    "knn_estimator = bmi.estimators.KSGEnsembleFirstEstimator(neighborhoods=(5,))  #compute_batch_mi\n",
    "kernel_estimator = bmi.estimators.KDEMutualInformationEstimator()\n",
    "mine = bmi.estimators.MINEEstimator()"
   ]
  },
  {
   "cell_type": "code",
   "execution_count": 49,
   "metadata": {},
   "outputs": [],
   "source": []
  },
  {
   "cell_type": "code",
   "execution_count": 268,
   "metadata": {},
   "outputs": [],
   "source": [
    "mi_estimators = [knn_estimator,\n",
    "                 kernel_estimator,\n",
    "                 mine,\n",
    "                 knife]"
   ]
  },
  {
   "cell_type": "code",
   "execution_count": 269,
   "metadata": {},
   "outputs": [],
   "source": [
    "# mine.estimate(R,y_one_hot)"
   ]
  },
  {
   "cell_type": "code",
   "execution_count": 270,
   "metadata": {},
   "outputs": [],
   "source": [
    "import pandas as pd\n",
    "from copy import deepcopy"
   ]
  },
  {
   "cell_type": "code",
   "execution_count": 287,
   "metadata": {},
   "outputs": [],
   "source": [
    "def evaluate_mi_and_acc(X, y, result = {}):\n",
    "    scaler = StandardScaler()\n",
    "    X = scaler.fit_transform(X) \n",
    "    y_one_hot = np.array(one_hot(y,4))\n",
    "    result['KNN'] = discrete_continuous_info_fast(y,X,k=10,eps=1e-2)#compute_batch_mi(X,y_one_hot,n_neighbors=10)# knn_estimator.estimate(X,y_one_hot)\n",
    "    result['KERNEL'] = kernel_estimator.estimate(X,y_one_hot)\n",
    "    # result['MINE'] = mine.estimate(X,y_one_hot)\n",
    "    result['KNIFE'] = knife(X[:,None,:],y_one_hot)\n",
    "\n",
    "    dataset = BasicDataset(X[:,None,:],y)\n",
    "    loss,acc = train_mlp_classifier(dataset,show=False)\n",
    "    result['ACCURACY'] = acc\n",
    "    return result"
   ]
  },
  {
   "cell_type": "code",
   "execution_count": 272,
   "metadata": {},
   "outputs": [],
   "source": [
    "# Rhrv.shape"
   ]
  },
  {
   "cell_type": "code",
   "execution_count": 273,
   "metadata": {},
   "outputs": [
    {
     "data": {
      "text/plain": [
       "(6480, 25)"
      ]
     },
     "execution_count": 273,
     "metadata": {},
     "output_type": "execute_result"
    }
   ],
   "source": [
    "features.shape"
   ]
  },
  {
   "cell_type": "code",
   "execution_count": 274,
   "metadata": {},
   "outputs": [],
   "source": [
    "# evaluate_mi_and_acc(np.concatenate([Rhrv,features],axis=-1), y, result = {})"
   ]
  },
  {
   "cell_type": "code",
   "execution_count": 275,
   "metadata": {},
   "outputs": [],
   "source": [
    "def evaluate_transformations(X, y, transformations):\n",
    "    dt = DataTransform(registry)\n",
    "    results = []\n",
    "    \n",
    "    y_one_hot = np.array(one_hot(y,4))\n",
    "    for trans in transformations:\n",
    "        trans_name_str = DataTransform.get_full_trans_kwargs_str(trans)\n",
    "        trans_X = dt.apply_transformation(X, trans)\n",
    "\n",
    "        result = {'Transformation (shape)': trans_name_str}\n",
    "        result[\"shape\"] = trans_X.shape[-1]\n",
    "        result['nb_trans'] = len(trans)\n",
    "\n",
    "        scaler = StandardScaler()\n",
    "        trans_X = scaler.fit_transform(trans_X) \n",
    "        print(f\"Transformation: {trans_name_str}, Shape: {trans_X.shape[-1]} \")\n",
    "\n",
    "        \n",
    "        result = evaluate_mi_and_acc(trans_X,y)\n",
    "        # result['KNN'] = knn_estimator.estimate(trans_X,y_one_hot)\n",
    "        # result['KERNEL'] = kernel_estimator.estimate(trans_X,y_one_hot)\n",
    "        # result['MINE'] = mine.estimate(trans_X,y_one_hot)\n",
    "        # result['KNIFE'] = knife(trans_X,y_one_hot)\n",
    "\n",
    "        # dataset = BasicDataset(trans_X,y)\n",
    "        # loss,acc = train_mlp_classifier(dataset,show=False)\n",
    "        # result['ACCURACY'] = acc\n",
    "        # for clf_name, clf in classifiers.items():\n",
    "        #     kf = KFold(n_splits=5, shuffle=True, random_state=42)\n",
    "        #     scores = cross_val_score(clf, trans_X, y, cv=kf, scoring='accuracy')\n",
    "        #     result[f'{clf_name} accuracy'] = np.mean(scores)\n",
    "        #     result[f'{clf_name} std'] = np.std(scores)\n",
    "        #     print(f\"Classifier: {clf_name}, \"\n",
    "        #           f\"Mean Accuracy: {np.mean(scores):.3f}, Std Accuracy: {np.std(scores):.3f}\")\n",
    "        \n",
    "        results.append(deepcopy(result))\n",
    "\n",
    "    return pd.DataFrame(results)"
   ]
  },
  {
   "cell_type": "code",
   "execution_count": 276,
   "metadata": {},
   "outputs": [],
   "source": [
    "# evaluate_mi_and_acc(R,y)"
   ]
  },
  {
   "cell_type": "code",
   "execution_count": 277,
   "metadata": {},
   "outputs": [
    {
     "data": {
      "text/plain": [
       "(6480, 1, 480)"
      ]
     },
     "execution_count": 277,
     "metadata": {},
     "output_type": "execute_result"
    }
   ],
   "source": [
    "X.shape"
   ]
  },
  {
   "cell_type": "code",
   "execution_count": 278,
   "metadata": {},
   "outputs": [],
   "source": [
    "X = Sxecg[:,[0],:]"
   ]
  },
  {
   "cell_type": "code",
   "execution_count": 282,
   "metadata": {},
   "outputs": [
    {
     "name": "stderr",
     "output_type": "stream",
     "text": [
      "epoch: 100%|██████████| 100/100 [12:04<00:00,  7.24s/it]\n"
     ]
    },
    {
     "data": {
      "text/plain": [
       "0.9502363523721328"
      ]
     },
     "execution_count": 282,
     "metadata": {},
     "output_type": "execute_result"
    }
   ],
   "source": [
    "knife(Sxecg[:,[0],:],y_one_hot)\n"
   ]
  },
  {
   "cell_type": "code",
   "execution_count": 279,
   "metadata": {},
   "outputs": [],
   "source": [
    "zc_dim, zd_dim = X.shape[-1], y_one_hot.shape[-1]\n",
    "model = KNIFE(zc_dim,zd_dim)\n",
    "dataset = BasicDataset(X,y_one_hot)\n",
    "optimizer = torch.optim.Adam(model.parameters(), 1e-3)\n",
    "data_loader = DataLoader(dataset, batch_size=16, shuffle=True)\n",
    "mi_est_values = []"
   ]
  },
  {
   "cell_type": "code",
   "execution_count": 285,
   "metadata": {},
   "outputs": [
    {
     "data": {
      "text/plain": [
       "(0.45975613594055176, 0.7808641975308642)"
      ]
     },
     "execution_count": 285,
     "metadata": {},
     "output_type": "execute_result"
    }
   ],
   "source": [
    "# train_mlp_classifier(BasicDataset(X,y))"
   ]
  },
  {
   "cell_type": "code",
   "execution_count": 286,
   "metadata": {},
   "outputs": [
    {
     "data": {
      "image/png": "[encoded data removed]",
      "text/plain": [
       "<Figure size 640x480 with 1 Axes>"
      ]
     },
     "metadata": {},
     "output_type": "display_data"
    },
    {
     "data": {
      "image/png": "[encoded data removed]",
      "text/plain": [
       "<Figure size 640x480 with 1 Axes>"
      ]
     },
     "metadata": {},
     "output_type": "display_data"
    },
    {
     "data": {
      "image/png": "[encoded data removed]",
      "text/plain": [
       "<Figure size 640x480 with 1 Axes>"
      ]
     },
     "metadata": {},
     "output_type": "display_data"
    },
    {
     "data": {
      "text/plain": [
       "(0.441497266292572, 0.7944444444444444)"
      ]
     },
     "execution_count": 286,
     "metadata": {},
     "output_type": "execute_result"
    }
   ],
   "source": [
    "train_mlp_classifier(BasicDataset(X,y),show=True,epochs=20)"
   ]
  },
  {
   "cell_type": "code",
   "execution_count": 280,
   "metadata": {},
   "outputs": [],
   "source": [
    "for batch_x, batch_y in data_loader:\n",
    "    # print(batch_x.shape)\n",
    "    # print(batch_y.shape)\n",
    "# for step in tqdm(range(training_steps), 'Training Loop', position=0, leave=True):\n",
    "#     batch_x, batch_y = sample_correlated_gaussian(rho, dim=sample_dim, batch_size=batch_size,\n",
    "#                                                     to_cuda=torch.cuda.is_available(), cubic=cubic)\n",
    "    # batch_x = torch.tensor(batch_x).float().to(device)\n",
    "    # batch_y = torch.tensor(batch_y).float().to(device)\n",
    "    model.eval()\n",
    "    mi_est, _, _ = model(batch_x, batch_y)\n",
    "    mi_est_values.append(mi_est.item())\n",
    "    # print('train ', mi_est)\n",
    "    model.train()\n",
    "\n",
    "    model_loss = model.learning_loss(batch_x, batch_y)# batch_label)\n",
    "\n",
    "    optimizer.zero_grad()\n",
    "    model_loss.backward()\n",
    "    optimizer.step()\n",
    "\n",
    "    # del batch_x, batch_y, batch_label\n",
    "    if torch.cuda.is_available():\n",
    "        torch.cuda.empty_cache()"
   ]
  },
  {
   "cell_type": "code",
   "execution_count": 281,
   "metadata": {},
   "outputs": [
    {
     "ename": "NameError",
     "evalue": "name 'stop' is not defined",
     "output_type": "error",
     "traceback": [
      "\u001b[1;31m---------------------------------------------------------------------------\u001b[0m",
      "\u001b[1;31mNameError\u001b[0m                                 Traceback (most recent call last)",
      "Cell \u001b[1;32mIn[281], line 1\u001b[0m\n\u001b[1;32m----> 1\u001b[0m stop\n",
      "\u001b[1;31mNameError\u001b[0m: name 'stop' is not defined"
     ]
    }
   ],
   "source": [
    "stop"
   ]
  },
  {
   "cell_type": "code",
   "execution_count": null,
   "metadata": {},
   "outputs": [],
   "source": [
    "bmi.estimators.KSG"
   ]
  },
  {
   "cell_type": "code",
   "execution_count": null,
   "metadata": {},
   "outputs": [
    {
     "name": "stderr",
     "output_type": "stream",
     "text": [
      "epoch: 100%|██████████| 100/100 [12:33<00:00,  7.54s/it]\n"
     ]
    },
    {
     "name": "stdout",
     "output_type": "stream",
     "text": [
      "{'KNN': 0.8566850433950974, 'KERNEL': 7.275317614770415, 'KNIFE': 1.0047136002467416, 'ACCURACY': 0.7924382716049383}\n"
     ]
    },
    {
     "name": "stderr",
     "output_type": "stream",
     "text": [
      "epoch: 100%|██████████| 100/100 [13:17<00:00,  7.97s/it]\n"
     ]
    },
    {
     "name": "stdout",
     "output_type": "stream",
     "text": [
      "{'KNN': -0.17568530761189072, 'KERNEL': 7.274659488199177, 'KNIFE': 0.6857924081022955, 'ACCURACY': 0.6375}\n"
     ]
    },
    {
     "name": "stderr",
     "output_type": "stream",
     "text": [
      "epoch: 100%|██████████| 100/100 [12:49<00:00,  7.70s/it]\n"
     ]
    },
    {
     "name": "stdout",
     "output_type": "stream",
     "text": [
      "{'KNN': -0.20238694620555941, 'KERNEL': 7.274800485592436, 'KNIFE': 0.5899281295510814, 'ACCURACY': 0.6248456790123457}\n"
     ]
    },
    {
     "name": "stderr",
     "output_type": "stream",
     "text": [
      "epoch: 100%|██████████| 100/100 [12:31<00:00,  7.51s/it]\n"
     ]
    },
    {
     "name": "stdout",
     "output_type": "stream",
     "text": [
      "{'KNN': -0.16301162018586135, 'KERNEL': 7.2748004855927775, 'KNIFE': 0.461542498357134, 'ACCURACY': 0.6003086419753086}\n"
     ]
    },
    {
     "name": "stderr",
     "output_type": "stream",
     "text": [
      "epoch: 100%|██████████| 100/100 [14:17<00:00,  8.57s/it]\n"
     ]
    },
    {
     "name": "stdout",
     "output_type": "stream",
     "text": [
      "{'KNN': -0.10084887901707829, 'KERNEL': 7.273052537391777, 'KNIFE': 0.41507779619438034, 'ACCURACY': 0.5546296296296296}\n"
     ]
    },
    {
     "name": "stderr",
     "output_type": "stream",
     "text": [
      "epoch: 100%|██████████| 100/100 [12:45<00:00,  7.66s/it]\n"
     ]
    },
    {
     "name": "stdout",
     "output_type": "stream",
     "text": [
      "{'KNN': 0.007897432674360605, 'KERNEL': 7.273229906884239, 'KNIFE': 0.45556407058956394, 'ACCURACY': 0.5509259259259259}\n"
     ]
    },
    {
     "name": "stderr",
     "output_type": "stream",
     "text": [
      "epoch: 100%|██████████| 100/100 [12:24<00:00,  7.45s/it]\n"
     ]
    }
   ],
   "source": [
    "df_list = []\n",
    "\n",
    "for X_ in [Sxecg[:,i,:] for i in range(Sxecg.shape[1])]:\n",
    "    res = evaluate_mi_and_acc(X_,label)\n",
    "    print(res)\n",
    "    df_list.append(deepcopy(res))\n",
    "pd.DataFrame(df_list)"
   ]
  },
  {
   "cell_type": "code",
   "execution_count": 59,
   "metadata": {},
   "outputs": [
    {
     "name": "stderr",
     "output_type": "stream",
     "text": [
      "  8%|████                                                  | 750/10000 [00:13<02:45, 56.01step/s, test=1.06, train=1.03]\n",
      "epoch: 100%|██████████| 100/100 [02:20<00:00,  1.41s/it]\n"
     ]
    },
    {
     "name": "stdout",
     "output_type": "stream",
     "text": [
      "{'KNN': 1.1857573891825703, 'KERNEL': 3.974147232935607, 'MINE': 1.1066687107086182, 'KNIFE': 1.374458060602163, 'ACCURACY': 0.9665123456790123}\n"
     ]
    },
    {
     "name": "stderr",
     "output_type": "stream",
     "text": [
      "  8%|████                                                  | 750/10000 [00:11<02:22, 64.94step/s, test=0.99, train=0.98]\n",
      "epoch: 100%|██████████| 100/100 [02:15<00:00,  1.36s/it]\n"
     ]
    },
    {
     "name": "stdout",
     "output_type": "stream",
     "text": [
      "{'KNN': 1.058157355424397, 'KERNEL': 1.902792204224614, 'MINE': 1.026944875717163, 'KNIFE': 1.1609109672303828, 'ACCURACY': 0.8629629629629629}\n"
     ]
    },
    {
     "name": "stderr",
     "output_type": "stream",
     "text": [
      " 12%|██████▋                                              | 1250/10000 [00:17<02:04, 70.26step/s, test=0.01, train=0.03]\n"
     ]
    },
    {
     "name": "stdout",
     "output_type": "stream",
     "text": [
      "WARNING: Smoothed training MI fell compared to highest value: max=0.105 vs final=0.014\n",
      "WARNING: Smoothed raining MI was still increasing when training stopped: final=0.014 vs 125 step(s) ago=0.008\n"
     ]
    },
    {
     "name": "stderr",
     "output_type": "stream",
     "text": [
      "epoch: 100%|██████████| 100/100 [02:14<00:00,  1.34s/it]\n"
     ]
    },
    {
     "name": "stdout",
     "output_type": "stream",
     "text": [
      "{'KNN': 0.30865434418936655, 'KERNEL': 0.8999446483104094, 'MINE': 0.09551811218261719, 'KNIFE': 0.35770663367929234, 'ACCURACY': 0.5256172839506172}\n"
     ]
    },
    {
     "name": "stderr",
     "output_type": "stream",
     "text": [
      "  8%|███▉                                                 | 750/10000 [00:13<02:50, 54.16step/s, test=-0.72, train=0.30]\n"
     ]
    },
    {
     "name": "stdout",
     "output_type": "stream",
     "text": [
      "WARNING: Smoothed training MI fell compared to highest value: max=0.664 vs final=0.335\n",
      "WARNING: Smoothed raining MI was still increasing when training stopped: final=0.335 vs 75 step(s) ago=0.276\n"
     ]
    },
    {
     "name": "stderr",
     "output_type": "stream",
     "text": [
      "epoch: 100%|██████████| 100/100 [02:14<00:00,  1.34s/it]\n"
     ]
    },
    {
     "name": "stdout",
     "output_type": "stream",
     "text": [
      "{'KNN': 0.7643461395779734, 'KERNEL': 1.735897686774666, 'MINE': 0.5140708684921265, 'KNIFE': 0.9689331109221612, 'ACCURACY': 0.799074074074074}\n"
     ]
    },
    {
     "name": "stderr",
     "output_type": "stream",
     "text": [
      " 15%|███████▉                                             | 1500/10000 [00:21<01:59, 71.20step/s, test=0.49, train=0.48]\n",
      "epoch: 100%|██████████| 100/100 [02:06<00:00,  1.26s/it]\n"
     ]
    },
    {
     "name": "stdout",
     "output_type": "stream",
     "text": [
      "{'KNN': 0.6091160185082054, 'KERNEL': 0.0777622290810005, 'MINE': 0.4976840019226074, 'KNIFE': 0.6888286057871158, 'ACCURACY': 0.7013888888888888}\n"
     ]
    },
    {
     "name": "stderr",
     "output_type": "stream",
     "text": [
      "  8%|████                                                  | 750/10000 [00:10<02:14, 69.01step/s, test=0.23, train=0.20]\n"
     ]
    },
    {
     "name": "stdout",
     "output_type": "stream",
     "text": [
      "WARNING: Smoothed training MI fell compared to highest value: max=0.231 vs final=0.217\n",
      "WARNING: Smoothed raining MI was still increasing when training stopped: final=0.217 vs 75 step(s) ago=0.188\n"
     ]
    },
    {
     "name": "stderr",
     "output_type": "stream",
     "text": [
      "epoch: 100%|██████████| 100/100 [02:05<00:00,  1.26s/it]\n"
     ]
    },
    {
     "name": "stdout",
     "output_type": "stream",
     "text": [
      "{'KNN': 0.31995720794573, 'KERNEL': 0.14679188626458528, 'MINE': 0.24344491958618164, 'KNIFE': 0.39363062180992625, 'ACCURACY': 0.534104938271605}\n"
     ]
    },
    {
     "name": "stderr",
     "output_type": "stream",
     "text": [
      " 10%|█████▎                                               | 1000/10000 [00:14<02:06, 71.36step/s, test=0.27, train=0.48]\n",
      "epoch: 100%|██████████| 100/100 [02:08<00:00,  1.29s/it]\n"
     ]
    },
    {
     "name": "stdout",
     "output_type": "stream",
     "text": [
      "{'KNN': 0.5114396403306598, 'KERNEL': -0.1213142755827945, 'MINE': 0.31872260570526123, 'KNIFE': 0.6376565377457917, 'ACCURACY': 0.6824074074074075}\n"
     ]
    },
    {
     "name": "stderr",
     "output_type": "stream",
     "text": [
      " 20%|██████████▌                                          | 2000/10000 [00:27<01:51, 71.95step/s, test=0.43, train=0.56]\n",
      "epoch: 100%|██████████| 100/100 [02:06<00:00,  1.27s/it]\n"
     ]
    },
    {
     "name": "stdout",
     "output_type": "stream",
     "text": [
      "{'KNN': 0.6109159245233018, 'KERNEL': 0.5484418115186608, 'MINE': 0.5234895944595337, 'KNIFE': 0.7307086104446631, 'ACCURACY': 0.7112654320987655}\n"
     ]
    },
    {
     "data": {
      "text/html": [
       "<div>\n",
       "<style scoped>\n",
       "    .dataframe tbody tr th:only-of-type {\n",
       "        vertical-align: middle;\n",
       "    }\n",
       "\n",
       "    .dataframe tbody tr th {\n",
       "        vertical-align: top;\n",
       "    }\n",
       "\n",
       "    .dataframe thead th {\n",
       "        text-align: right;\n",
       "    }\n",
       "</style>\n",
       "<table border=\"1\" class=\"dataframe\">\n",
       "  <thead>\n",
       "    <tr style=\"text-align: right;\">\n",
       "      <th></th>\n",
       "      <th>KNN</th>\n",
       "      <th>KERNEL</th>\n",
       "      <th>MINE</th>\n",
       "      <th>KNIFE</th>\n",
       "      <th>ACCURACY</th>\n",
       "    </tr>\n",
       "  </thead>\n",
       "  <tbody>\n",
       "    <tr>\n",
       "      <th>0</th>\n",
       "      <td>1.185757</td>\n",
       "      <td>3.974147</td>\n",
       "      <td>1.106669</td>\n",
       "      <td>1.374458</td>\n",
       "      <td>0.966512</td>\n",
       "    </tr>\n",
       "    <tr>\n",
       "      <th>1</th>\n",
       "      <td>1.058157</td>\n",
       "      <td>1.902792</td>\n",
       "      <td>1.026945</td>\n",
       "      <td>1.160911</td>\n",
       "      <td>0.862963</td>\n",
       "    </tr>\n",
       "    <tr>\n",
       "      <th>2</th>\n",
       "      <td>0.308654</td>\n",
       "      <td>0.899945</td>\n",
       "      <td>0.095518</td>\n",
       "      <td>0.357707</td>\n",
       "      <td>0.525617</td>\n",
       "    </tr>\n",
       "    <tr>\n",
       "      <th>3</th>\n",
       "      <td>0.764346</td>\n",
       "      <td>1.735898</td>\n",
       "      <td>0.514071</td>\n",
       "      <td>0.968933</td>\n",
       "      <td>0.799074</td>\n",
       "    </tr>\n",
       "    <tr>\n",
       "      <th>4</th>\n",
       "      <td>0.609116</td>\n",
       "      <td>0.077762</td>\n",
       "      <td>0.497684</td>\n",
       "      <td>0.688829</td>\n",
       "      <td>0.701389</td>\n",
       "    </tr>\n",
       "    <tr>\n",
       "      <th>5</th>\n",
       "      <td>0.319957</td>\n",
       "      <td>0.146792</td>\n",
       "      <td>0.243445</td>\n",
       "      <td>0.393631</td>\n",
       "      <td>0.534105</td>\n",
       "    </tr>\n",
       "    <tr>\n",
       "      <th>6</th>\n",
       "      <td>0.511440</td>\n",
       "      <td>-0.121314</td>\n",
       "      <td>0.318723</td>\n",
       "      <td>0.637657</td>\n",
       "      <td>0.682407</td>\n",
       "    </tr>\n",
       "    <tr>\n",
       "      <th>7</th>\n",
       "      <td>0.610916</td>\n",
       "      <td>0.548442</td>\n",
       "      <td>0.523490</td>\n",
       "      <td>0.730709</td>\n",
       "      <td>0.711265</td>\n",
       "    </tr>\n",
       "  </tbody>\n",
       "</table>\n",
       "</div>"
      ],
      "text/plain": [
       "        KNN    KERNEL      MINE     KNIFE  ACCURACY\n",
       "0  1.185757  3.974147  1.106669  1.374458  0.966512\n",
       "1  1.058157  1.902792  1.026945  1.160911  0.862963\n",
       "2  0.308654  0.899945  0.095518  0.357707  0.525617\n",
       "3  0.764346  1.735898  0.514071  0.968933  0.799074\n",
       "4  0.609116  0.077762  0.497684  0.688829  0.701389\n",
       "5  0.319957  0.146792  0.243445  0.393631  0.534105\n",
       "6  0.511440 -0.121314  0.318723  0.637657  0.682407\n",
       "7  0.610916  0.548442  0.523490  0.730709  0.711265"
      ]
     },
     "execution_count": 59,
     "metadata": {},
     "output_type": "execute_result"
    }
   ],
   "source": [
    "# df_list = []\n",
    "# for X_ in [R,Recg,Rhrv,features,basic_features,multifracs_features,auto_reg_features,shannon_features]:\n",
    "#     res = evaluate_mi_and_acc(X_,label)\n",
    "#     print(res)\n",
    "#     df_list.append(deepcopy(res))\n",
    "# pd.DataFrame(df_list)"
   ]
  },
  {
   "cell_type": "code",
   "execution_count": 60,
   "metadata": {},
   "outputs": [],
   "source": [
    "result_df = pd.DataFrame(df_list)"
   ]
  },
  {
   "cell_type": "code",
   "execution_count": 61,
   "metadata": {},
   "outputs": [],
   "source": [
    "import scienceplots"
   ]
  },
  {
   "cell_type": "code",
   "execution_count": 62,
   "metadata": {},
   "outputs": [
    {
     "data": {
      "image/png": "[encoded data removed]",
      "text/plain": [
       "<Figure size 600x400 with 1 Axes>"
      ]
     },
     "metadata": {},
     "output_type": "display_data"
    }
   ],
   "source": [
    "with plt.style.context(['science','no-latex','grid']):\n",
    "    plt.figure(figsize=(6, 4))\n",
    "    plt.plot(result_df['ACCURACY'],label = 'ACCURACY')\n",
    "    plt.plot(result_df['MINE'],label = 'MINE')\n",
    "    # plt.plot(result_df['KERNEL'],label = 'KERNEL')\n",
    "    plt.plot(result_df['KNN'],label = 'KNN')\n",
    "    plt.plot(result_df['KNIFE'],label = 'KNIFE')\n",
    "    plt.legend(loc='upper right')"
   ]
  },
  {
   "cell_type": "code",
   "execution_count": 63,
   "metadata": {},
   "outputs": [],
   "source": [
    "transformations = [\n",
    "    # ['identity'],\n",
    "    ['crosscor'],\n",
    "    # ['autocor', {'m':5000,'k':4}],\n",
    "    ['fourier', {'new_dimension':40}],\n",
    "    ['low_fourier'],\n",
    "    ['low_psd'],\n",
    "    # ['cwt',{'pca_components' : 10}],\n",
    "    ['wavedec'],\n",
    "    ['autoreg', {'k': 3}],\n",
    "    ['shannon_encoding'],\n",
    "    ['waveletscattering']\n",
    "    # ['wavelet_leaders'],\n",
    "    # ['multifracs'],\n",
    "    # ['multifracs', {'j1':1,'j2':12}],\n",
    "    # [['wavelet_leaders','shannon_encoding']],\n",
    "    # [['wavelet_leaders','multifracs']],\n",
    "    # [['fourier','multifracs',], {'new_dimension':40}],\n",
    "    # [['fourier','multifracs',], {'new_dimension':40}],\n",
    "    # [['fourier','multifracs','shannon_encoding'], {'new_dimension':40}],\n",
    "    # [['low_fourier','multifracs','autoreg'], {'k':3}],\n",
    "    \n",
    "]"
   ]
  },
  {
   "cell_type": "code",
   "execution_count": 40,
   "metadata": {},
   "outputs": [
    {
     "name": "stdout",
     "output_type": "stream",
     "text": [
      "Transformation: crosscor, Shape: 10 \n"
     ]
    },
    {
     "name": "stderr",
     "output_type": "stream",
     "text": [
      " 20%|██████████▌                                          | 2000/10000 [00:25<01:42, 78.33step/s, test=0.25, train=0.40]\n",
      "epoch: 100%|██████████| 100/100 [02:05<00:00,  1.25s/it]\n"
     ]
    },
    {
     "name": "stdout",
     "output_type": "stream",
     "text": [
      "Transformation: fourier_new_dimension=40, Shape: 40 \n"
     ]
    },
    {
     "name": "stderr",
     "output_type": "stream",
     "text": [
      " 12%|██████▋                                              | 1250/10000 [00:20<02:20, 62.25step/s, test=0.38, train=0.42]\n",
      "epoch: 100%|██████████| 100/100 [02:29<00:00,  1.49s/it]\n"
     ]
    },
    {
     "name": "stdout",
     "output_type": "stream",
     "text": [
      "Transformation: low_fourier, Shape: 65 \n"
     ]
    },
    {
     "name": "stderr",
     "output_type": "stream",
     "text": [
      "  8%|████                                                  | 750/10000 [00:13<02:42, 56.80step/s, test=0.27, train=0.38]\n",
      "epoch:  59%|█████▉    | 59/100 [01:29<00:56,  1.37s/it]"
     ]
    }
   ],
   "source": [
    "evaluate_transformations(Xecg, y, transformations)"
   ]
  },
  {
   "cell_type": "code",
   "execution_count": null,
   "metadata": {},
   "outputs": [],
   "source": [
    "evaluate_transformations(Xhrv, y, transformations)"
   ]
  },
  {
   "cell_type": "code",
   "execution_count": 110,
   "metadata": {},
   "outputs": [],
   "source": [
    "\n",
    "\n",
    "# task = bmi.benchmark.BENCHMARK_TASKS['1v1-normal-0.75']\n",
    "# print(f\"Task {task.name} with dimensions {task.dim_x} and {task.dim_y}\")\n",
    "# print(f\"Ground truth mutual information: {task.mutual_information:.2f}\")\n",
    "\n",
    "# X, Y = task.sample(1000, seed=42)\n",
    "\n",
    "# cca = bmi.estimators.CCAMutualInformationEstimator()\n",
    "# print(f\"Estimate by CCA: {cca.estimate(X, Y):.2f}\")\n",
    "\n",
    "# ksg = bmi.estimators.KSGEnsembleFirstEstimator(neighborhoods=(5,))\n",
    "# print(f\"Estimate by KSG: {ksg.estimate(X, Y):.2f}\")"
   ]
  },
  {
   "cell_type": "code",
   "execution_count": 111,
   "metadata": {},
   "outputs": [
    {
     "ename": "NameError",
     "evalue": "name 'stop' is not defined",
     "output_type": "error",
     "traceback": [
      "\u001b[1;31m---------------------------------------------------------------------------\u001b[0m",
      "\u001b[1;31mNameError\u001b[0m                                 Traceback (most recent call last)",
      "Cell \u001b[1;32mIn[111], line 1\u001b[0m\n\u001b[1;32m----> 1\u001b[0m stop\n",
      "\u001b[1;31mNameError\u001b[0m: name 'stop' is not defined"
     ]
    }
   ],
   "source": [
    "stop"
   ]
  },
  {
   "cell_type": "markdown",
   "metadata": {},
   "source": [
    "1\n",
    "\n",
    "  8%|████                                                  | 750/10000 [00:12<02:32, 60.61step/s, test=1.08, train=1.09]\n",
    "epoch: 100%|██████████| 100/100 [02:29<00:00,  1.50s/it]\n",
    "{'KNN': 0.8502633542749152, 'KERNEL': 3.974147232935607, 'MINE': 1.1285080909729004, 'KNIFE': 1.338432982675501, 'ACCURACY': 0.9638888888888889}\n",
    "  8%|████                                                  | 750/10000 [00:14<02:59, 51.56step/s, test=0.98, train=1.02]\n",
    "epoch: 100%|██████████| 100/100 [02:35<00:00,  1.56s/it]\n",
    "{'KNN': 1.0591526192050313, 'KERNEL': 1.902792204224614, 'MINE': 1.026944875717163, 'KNIFE': 1.1040772186316274, 'ACCURACY': 0.8634259259259259}\n",
    " 10%|█████▎                                               | 1000/10000 [00:15<02:23, 62.94step/s, test=0.08, train=0.08]\n",
    "WARNING: Smoothed raining MI was still increasing when training stopped: final=0.129 vs 100 step(s) ago=0.122\n",
    "epoch: 100%|██████████| 100/100 [02:31<00:00,  1.51s/it]\n",
    "{'KNN': 0.3480875458272994, 'KERNEL': 0.8999446483104094, 'MINE': 0.12139785289764404, 'KNIFE': 0.057890223868098944, 'ACCURACY': 0.2777777777777778}\n",
    "  8%|████                                                  | 750/10000 [00:11<02:18, 66.58step/s, test=0.16, train=0.18]\n",
    "WARNING: Smoothed training MI fell compared to highest value: max=0.628 vs final=0.230\n",
    "epoch: 100%|██████████| 100/100 [02:25<00:00,  1.46s/it]\n",
    "{'KNN': 0.8084928308817556, 'KERNEL': 1.735897686774666, 'MINE': 0.5140691995620728, 'KNIFE': 0.9373721642626658, 'ACCURACY': 0.8050925925925926}\n",
    " 15%|███████▉                                             | 1500/10000 [00:28<02:43, 51.93step/s, test=0.49, train=0.48]\n",
    "epoch: 100%|██████████| 100/100 [02:26<00:00,  1.47s/it]\n",
    "{'KNN': 0.6602970921538454, 'KERNEL': 0.0777622290810005, 'MINE': 0.49768340587615967, 'KNIFE': 0.7024234542772634, 'ACCURACY': 0.6947530864197531}\n",
    "  8%|████                                                  | 750/10000 [00:12<02:29, 62.07step/s, test=0.23, train=0.19]\n",
    "WARNING: Smoothed raining MI was still increasing when training stopped: final=0.234 vs 75 step(s) ago=0.217\n",
    "epoch: 100%|██████████| 100/100 [02:26<00:00,  1.47s/it]\n",
    "{'KNN': 0.3345431445991274, 'KERNEL': 0.14679188626458528, 'MINE': 0.24144911766052246, 'KNIFE': 0.3925483974254471, 'ACCURACY': 0.541820987654321}\n",
    " 10%|█████▎                                               | 1000/10000 [00:16<02:28, 60.58step/s, test=0.35, train=0.49]\n",
    "epoch: 100%|██████████| 100/100 [02:26<00:00,  1.47s/it]\n",
    "{'KNN': 0.5633935650857982, 'KERNEL': -0.1213142755827945, 'MINE': 0.37467455863952637, 'KNIFE': 0.6525536517808097, 'ACCURACY': 0.6756172839506173}\n",
    " 12%|██████▋                                              | 1250/10000 [00:20<02:21, 61.73step/s, test=0.49, train=0.45]\n",
    "epoch: 100%|██████████| 100/100 [02:28<00:00,  1.49s/it]\n",
    "{'KNN': 0.6427775503438813, 'KERNEL': 0.5484418115186608, 'MINE': 0.4871199131011963, 'KNIFE': 0.716050656499732, 'ACCURACY': 0.7021604938271605}\n",
    "\n",
    "2\n",
    "\n",
    "Transformation: crosscor, Shape: 10 \n",
    "  8%|████                                                  | 750/10000 [00:11<02:24, 64.21step/s, test=0.23, train=0.21]\n",
    "WARNING: Smoothed training MI fell compared to highest value: max=0.262 vs final=0.204\n",
    "epoch: 100%|██████████| 100/100 [02:24<00:00,  1.45s/it]\n",
    "Transformation: fourier_new_dimension=40, Shape: 40 \n",
    " 12%|██████▋                                              | 1250/10000 [00:23<02:47, 52.18step/s, test=0.38, train=0.42]\n",
    "epoch: 100%|██████████| 100/100 [02:50<00:00,  1.70s/it]\n",
    "Transformation: low_fourier, Shape: 65 7811\n",
    "  8%|████                                                  | 750/10000 [00:11<02:19, 66.40step/s, test=0.27, train=0.38]\n",
    "epoch: 100%|██████████| 100/100 [02:33<00:00,  1.54s/it]\n",
    "Transformation: low_psd, Shape: 65 : 0.3390\n",
    " 18%|█████████▎                                           | 1750/10000 [00:28<02:13, 61.70step/s, test=0.09, train=0.47]\n",
    "epoch: 100%|██████████| 100/100 [02:41<00:00,  1.62s/it]\n",
    "Transformation: cwt_pca_components=10, Shape: 10 \n",
    "  8%|████                                                  | 750/10000 [00:12<02:35, 59.55step/s, test=0.40, train=0.46]\n",
    "epoch: 100%|██████████| 100/100 [02:31<00:00,  1.52s/it]\n",
    "Transformation: wavedec, Shape: 240  0.8137\n",
    " 10%|█████▎                                               | 1000/10000 [00:19<02:55, 51.23step/s, test=0.25, train=0.55]\n",
    "epoch: 100%|██████████| 100/100 [02:44<00:00,  1.65s/it]\n",
    "Transformation: autoreg_k=3, Shape: 3 .0029\n",
    " 20%|██████████▌                                          | 2000/10000 [00:31<02:05, 63.61step/s, test=0.48, train=0.58]\n",
    "epoch: 100%|██████████| 100/100 [02:34<00:00,  1.55s/it]\n",
    "Transformation: shannon_encoding, Shape: 8 \n",
    " 15%|███████▉                                             | 1500/10000 [00:27<02:34, 54.96step/s, test=0.73, train=0.71]\n",
    "epoch: 100%|██████████| 100/100 [02:27<00:00,  1.48s/it]\n",
    "Epoch [100/100], Step [80/81], Loss: 0.3663\n",
    "\n"
   ]
  },
  {
   "cell_type": "code",
   "execution_count": 40,
   "metadata": {},
   "outputs": [],
   "source": [
    "class MyDataset(Dataset):\n",
    "\n",
    "    def __init__(self, X, Y, labels):\n",
    "        self.X = X\n",
    "        self.Y = Y\n",
    "        self.labels = labels\n",
    "    \n",
    "    def __len__(self):\n",
    "        return len(self.X)\n",
    "    \n",
    "    def __getitem__(self, idx):\n",
    "        # Return the features and corresponding label at the given index\n",
    "        return self.X[idx], self.Y[idx], self.labels[idx]"
   ]
  },
  {
   "cell_type": "code",
   "execution_count": 41,
   "metadata": {},
   "outputs": [],
   "source": [
    "# from model.my_model import ConvNet\n",
    "# import copy"
   ]
  },
  {
   "cell_type": "code",
   "execution_count": 42,
   "metadata": {},
   "outputs": [],
   "source": [
    "class MyDataset(Dataset):\n",
    "\n",
    "    def __init__(self, X, Y, labels):\n",
    "        self.X = X\n",
    "        self.Y = Y\n",
    "        self.labels = labels\n",
    "    \n",
    "    def __len__(self):\n",
    "        return len(self.X)\n",
    "    \n",
    "    def __getitem__(self, idx):\n",
    "        # Return the features and corresponding label at the given index\n",
    "        return self.X[idx], self.Y[idx], self.labels[idx]"
   ]
  },
  {
   "cell_type": "code",
   "execution_count": 43,
   "metadata": {},
   "outputs": [
    {
     "ename": "NameError",
     "evalue": "name 'inputs_ecg' is not defined",
     "output_type": "error",
     "traceback": [
      "\u001b[1;31m---------------------------------------------------------------------------\u001b[0m",
      "\u001b[1;31mNameError\u001b[0m                                 Traceback (most recent call last)",
      "Cell \u001b[1;32mIn[43], line 1\u001b[0m\n\u001b[1;32m----> 1\u001b[0m dataset \u001b[38;5;241m=\u001b[39m MyDataset(X\u001b[38;5;241m=\u001b[39minputs_ecg,Y\u001b[38;5;241m=\u001b[39moutputs1,labels\u001b[38;5;241m=\u001b[39mtorch\u001b[38;5;241m.\u001b[39mtensor(labels))\n",
      "\u001b[1;31mNameError\u001b[0m: name 'inputs_ecg' is not defined"
     ]
    }
   ],
   "source": [
    "dataset = MyDataset(X=inputs_ecg,Y=outputs1,labels=torch.tensor(labels))"
   ]
  },
  {
   "cell_type": "code",
   "execution_count": null,
   "metadata": {},
   "outputs": [],
   "source": []
  },
  {
   "cell_type": "code",
   "execution_count": 14,
   "metadata": {},
   "outputs": [],
   "source": [
    "X,y,label = dataset[:]\n",
    "X = np.array(X).squeeze()\n",
    "y = np.array(y)\n",
    "label = np.array(label)\n"
   ]
  },
  {
   "cell_type": "code",
   "execution_count": 15,
   "metadata": {},
   "outputs": [
    {
     "data": {
      "text/plain": [
       "(5140, 3840)"
      ]
     },
     "execution_count": 15,
     "metadata": {},
     "output_type": "execute_result"
    }
   ],
   "source": [
    "X.shape"
   ]
  },
  {
   "cell_type": "code",
   "execution_count": 16,
   "metadata": {},
   "outputs": [],
   "source": [
    "res = mutual_info_classif(X,label)"
   ]
  },
  {
   "cell_type": "code",
   "execution_count": 18,
   "metadata": {},
   "outputs": [
    {
     "name": "stdout",
     "output_type": "stream",
     "text": [
      "[0.6404705  0.57393381 0.61927569 0.58060789 0.59413071 0.50187154\n",
      " 0.60830378 0.62696188 0.32441916 0.53262602 0.61225841 0.74059727\n",
      " 0.48948113 0.59043673 0.54220141 0.45538354 0.37147048 0.50280187\n",
      " 0.30205925 0.27534448 0.56806143 0.68974686 0.57530696 0.56609478\n",
      " 0.66276285 0.72381776 0.79170604 0.69976952 0.35594996 0.53310458\n",
      " 0.73651443 0.25047196]\n",
      "0.5511857096775474\n",
      "[0.63384949 0.56602845 0.6289287  0.58991649 0.60558246 0.51296952\n",
      " 0.60294843 0.62982341 0.31535674 0.53276119 0.61623834 0.74128486\n",
      " 0.48993895 0.58747691 0.54789223 0.46922131 0.35509732 0.50283769\n",
      " 0.3025302  0.27304373 0.56164058 0.69962279 0.57169637 0.55783955\n",
      " 0.66442238 0.71077282 0.78734242 0.70015154 0.35402105 0.53259765\n",
      " 0.73623339 0.24535914]\n",
      "0.5507945652957595\n",
      "[0.63953696 0.57240928 0.63758452 0.59612831 0.61130032 0.51819036\n",
      " 0.61575303 0.63328438 0.31412404 0.54161889 0.62323628 0.75339921\n",
      " 0.49606786 0.59351975 0.55951108 0.48407816 0.35615827 0.50150089\n",
      " 0.29434321 0.28054456 0.57796053 0.70984124 0.57996759 0.56814154\n",
      " 0.67165075 0.72621674 0.79334757 0.71797054 0.36583392 0.54627968\n",
      " 0.74678496 0.2525238 ]\n",
      "0.5587127570039747\n",
      "[0.64910335 0.58006608 0.64830421 0.60477231 0.62583611 0.51489452\n",
      " 0.62375225 0.64650835 0.310198   0.55181666 0.63338267 0.76084898\n",
      " 0.49625797 0.59416444 0.55585292 0.49183837 0.36472164 0.49259519\n",
      " 0.28734509 0.27673106 0.58181451 0.71044631 0.58955429 0.57740089\n",
      " 0.67863303 0.73100237 0.79899324 0.72870212 0.37129383 0.54501248\n",
      " 0.75225308 0.2440404 ]\n",
      "0.5630667733062371\n",
      "[0.65951998 0.6127167  0.65903335 0.61772835 0.67209896 0.52302115\n",
      " 0.6167663  0.65842519 0.273286   0.58650851 0.65236764 0.78464732\n",
      " 0.50282295 0.59070077 0.56882081 0.51215208 0.36623246 0.52754733\n",
      " 0.28135252 0.23323329 0.56419394 0.71996002 0.61038144 0.5904395\n",
      " 0.68406812 0.75697361 0.82893854 0.74746893 0.3461366  0.55644573\n",
      " 0.77689664 0.24781666]\n",
      "0.5727719186394136\n"
     ]
    }
   ],
   "source": [
    "for n in [3,10,50,100,300]:\n",
    "    res = mutual_info_classif(y,label,n_neighbors=n)\n",
    "    print(res)\n",
    "    print(res.mean())"
   ]
  },
  {
   "cell_type": "code",
   "execution_count": 28,
   "metadata": {},
   "outputs": [
    {
     "name": "stdout",
     "output_type": "stream",
     "text": [
      "Collecting dtw-python\n",
      "  Obtaining dependency information for dtw-python from https://files.pythonhosted.org/packages/32/9f/e0b91a75a810bec321909ed910ee5fca7ba6b7808f5e0f389d90d46623e8/dtw_python-1.5.3-cp311-cp311-win_amd64.whl.metadata\n",
      "  Downloading dtw_python-1.5.3-cp311-cp311-win_amd64.whl.metadata (48 kB)\n",
      "     ---------------------------------------- 0.0/49.0 kB ? eta -:--:--\n",
      "     -------- ------------------------------- 10.2/49.0 kB ? eta -:--:--\n",
      "     ----------------------- -------------- 30.7/49.0 kB 330.3 kB/s eta 0:00:01\n",
      "     -------------------------------------- 49.0/49.0 kB 355.3 kB/s eta 0:00:00\n",
      "Requirement already satisfied: scipy in c:\\users\\aejog\\anaconda3\\lib\\site-packages (from dtw-python) (1.11.1)\n",
      "Requirement already satisfied: numpy>=1.23.5 in c:\\users\\aejog\\anaconda3\\lib\\site-packages (from dtw-python) (1.24.3)\n",
      "Downloading dtw_python-1.5.3-cp311-cp311-win_amd64.whl (376 kB)\n",
      "   ---------------------------------------- 0.0/376.2 kB ? eta -:--:--\n",
      "   ---- ----------------------------------- 41.0/376.2 kB 2.0 MB/s eta 0:00:01\n",
      "   ----------------------- ---------------- 225.3/376.2 kB 3.5 MB/s eta 0:00:01\n",
      "   ---------------------------------------- 376.2/376.2 kB 3.4 MB/s eta 0:00:00\n",
      "Installing collected packages: dtw-python\n",
      "Successfully installed dtw-python-1.5.3\n",
      "Note: you may need to restart the kernel to use updated packages.\n"
     ]
    },
    {
     "name": "stderr",
     "output_type": "stream",
     "text": [
      "DEPRECATION: Loading egg at c:\\users\\aejog\\anaconda3\\lib\\site-packages\\appdirs-1.4.4-py3.11.egg is deprecated. pip 23.3 will enforce this behaviour change. A possible replacement is to use pip for package installation..\n",
      "DEPRECATION: Loading egg at c:\\users\\aejog\\anaconda3\\lib\\site-packages\\kymatio-0.4.0.dev0-py3.11.egg is deprecated. pip 23.3 will enforce this behaviour change. A possible replacement is to use pip for package installation..\n"
     ]
    }
   ],
   "source": [
    "%pip install dtw-python"
   ]
  },
  {
   "cell_type": "code",
   "execution_count": 31,
   "metadata": {},
   "outputs": [
    {
     "name": "stdout",
     "output_type": "stream",
     "text": [
      "DTW distance: 2.0\n"
     ]
    }
   ],
   "source": [
    "import numpy as np\n",
    "from dtw import dtw\n",
    "\n",
    "# Example sequences\n",
    "sequence1 = np.array([0, 1, 2, 3, 4, 5])\n",
    "sequence2 = np.array([1, 2, 3, 4, 5, 6])\n",
    "\n",
    "# Define a distance function (Euclidean distance is commonly used)\n",
    "def euclidean_distance(x, y):\n",
    "    return np.abs(x - y)\n",
    "\n",
    "# Perform DTW\n",
    "alignment = dtw(sequence1, sequence2)\n",
    "\n",
    "# Display the alignment distance\n",
    "print(\"DTW distance:\", alignment.distance)"
   ]
  },
  {
   "cell_type": "code",
   "execution_count": 26,
   "metadata": {},
   "outputs": [],
   "source": []
  },
  {
   "cell_type": "code",
   "execution_count": 34,
   "metadata": {},
   "outputs": [
    {
     "data": {
      "text/plain": [
       "array([[-1.0036287 , -0.33342677, -0.7028649 , ..., -0.02573977,\n",
       "         0.37117124,  0.02566248],\n",
       "       [-0.8337579 ,  0.35795164, -0.73773265, ...,  0.0935782 ,\n",
       "         0.74977994,  0.07879715],\n",
       "       [-0.934284  ,  0.2652989 , -0.62785053, ...,  0.01784897,\n",
       "         0.8059541 ,  0.14918669],\n",
       "       ...,\n",
       "       [ 0.7639055 ,  0.04372032,  0.6465986 , ...,  0.9228038 ,\n",
       "        -0.49429268,  0.39612967],\n",
       "       [-0.6291675 ,  0.14245938, -0.36647016, ..., -0.02929656,\n",
       "         0.5634943 ,  0.10434194],\n",
       "       [-0.751663  , -0.10784094, -0.36594906, ...,  0.05336997,\n",
       "         0.1765241 ,  0.31795323]], dtype=float32)"
      ]
     },
     "execution_count": 34,
     "metadata": {},
     "output_type": "execute_result"
    }
   ],
   "source": [
    "y"
   ]
  },
  {
   "cell_type": "code",
   "execution_count": 33,
   "metadata": {},
   "outputs": [
    {
     "name": "stdout",
     "output_type": "stream",
     "text": [
      "(5140,)\n",
      "Reference MI =  1.4995459098992576\n",
      "Fast MI =  1.499545909899439\n"
     ]
    }
   ],
   "source": [
    "target = labels\n",
    "print(target.shape)\n",
    "data = y\n",
    "# # Reference algorithm with for loops\n",
    "mi_ref = discrete_continuous_info_ref(target, data, k=10, base=2)\n",
    "print(\"Reference MI = \", mi_ref)\n",
    "\n",
    "# Fast, approximate algorithm using KDTrees and vectorized queries\n",
    "mi_fast = discrete_continuous_info_fast(target, data, k=10, base=2,eps=1e-5)\n",
    "msg = \"Difference too large to be true: found \"+str(mi_fast)\n",
    "assert abs(mi_ref - mi_fast) < 1e-10, msg\n",
    "print(\"Fast MI = \", mi_fast)"
   ]
  },
  {
   "cell_type": "code",
   "execution_count": 43,
   "metadata": {},
   "outputs": [],
   "source": [
    "convnet = copy.deepcopy(model.ecg_conv)"
   ]
  },
  {
   "cell_type": "code",
   "execution_count": 47,
   "metadata": {},
   "outputs": [],
   "source": [
    "class MINE(nn.Module):\n",
    "    def __init__(self,zd_dim):\n",
    "        super(MINE, self).__init__()\n",
    "        self.convnet = convnet\n",
    "        self.net = nn.Sequential(nn.Linear(32+zd_dim,64),nn.ReLU(),nn.Linear(64,32),nn.ReLU(),nn.Linear(32,1))#FF(args, zc_dim + zd_dim, zc_dim, 1)\n",
    "\n",
    "    def forward(self, z_c, z_d,y=0):  # samples have shape [sample_size, dim]\n",
    "        # shuffle and concatenate\n",
    "        z_c = self.convnet(z_c)\n",
    "        sample_size = z_d.shape[0]\n",
    "        random_index = torch.randint(sample_size, (sample_size,)).long()\n",
    "\n",
    "        z_d_shuffle = z_d[random_index]\n",
    "\n",
    "        T0 = self.net(torch.cat([z_c, z_d], dim=-1))\n",
    "        T1 = self.net(torch.cat([z_c, z_d_shuffle], dim=-1))\n",
    "\n",
    "        mi = T0.mean() - (T1.squeeze().logsumexp(0) - math.log(sample_size))\n",
    "        return mi, 0., 0.\n",
    "\n",
    "    def learning_loss(self, z_c, z_d,y=0):\n",
    "        return - self(z_c, z_d)[0]"
   ]
  },
  {
   "cell_type": "code",
   "execution_count": null,
   "metadata": {},
   "outputs": [],
   "source": []
  },
  {
   "cell_type": "code",
   "execution_count": null,
   "metadata": {},
   "outputs": [],
   "source": [
    "# dataset = MyDataset(X=inputs_ecg,Y=outputs1,labels=torch.tensor(labels))\n",
    "# batch_size = 64\n",
    "# train_ratio = 0.8\n",
    "# train_size = int(train_ratio * len(dataset))\n",
    "# test_size = len(dataset) - train_size\n",
    "# train_dataset, test_dataset = random_split(dataset, [train_size, test_size])\n",
    "\n",
    "# # Create DataLoaders for the training and testing sets\n",
    "# train_loader = DataLoader(train_dataset, batch_size=batch_size, shuffle=True)\n",
    "# test_loader = DataLoader(test_dataset, batch_size=batch_size, shuffle=False)\n",
    "\n",
    "\n",
    "# model =  MINE(zd_dim=32)\n",
    "# learning_rate = 1e-3\n",
    "# optimizer = torch.optim.Adam(model.parameters(), learning_rate)\n",
    "# epochs = 100\n",
    "# mi_est_values = []\n",
    "# test_mi_est_values = []\n",
    "# test_mean_mi_est_values = []\n",
    "# step = 0\n",
    "# for epoch in tqdm(range(epochs), 'epoch'):\n",
    "#             # rho = mi_to_rho(mi_value, sample_dim)\n",
    "#             for batch_x, batch_y, batch_label in train_loader:\n",
    "#                 # print(batch_x.shape)\n",
    "#                 # print(batch_y.shape)\n",
    "#             # for step in tqdm(range(training_steps), 'Training Loop', position=0, leave=True):\n",
    "#             #     batch_x, batch_y = sample_correlated_gaussian(rho, dim=sample_dim, batch_size=batch_size,\n",
    "#             #                                                     to_cuda=torch.cuda.is_available(), cubic=cubic)\n",
    "#                 # batch_x = torch.tensor(batch_x).float().to(device)\n",
    "#                 # batch_y = torch.tensor(batch_y).float().to(device)\n",
    "#                 model.eval()\n",
    "#                 mi_est, _, _ = model(batch_x, batch_y, batch_label)\n",
    "#                 mi_est_values.append(mi_est.item())\n",
    "#                 print('train ', mi_est)\n",
    "#                 model.train()\n",
    "\n",
    "#                 model_loss = model.learning_loss(batch_x, batch_y, batch_label)\n",
    "\n",
    "#                 optimizer.zero_grad()\n",
    "#                 model_loss.backward()\n",
    "#                 optimizer.step()\n",
    "\n",
    "#                 del batch_x, batch_y, batch_label\n",
    "#                 if torch.cuda.is_available():\n",
    "#                     torch.cuda.empty_cache()\n",
    "                \n",
    "#                 step += 1\n",
    "#                 if step % 50 == 0:\n",
    "#                     step = 0\n",
    "#                     with torch.no_grad():\n",
    "#                         s = 0.\n",
    "#                         n = 0\n",
    "#                         for batch_x, batch_y, batch_label in test_loader:\n",
    "#                             n += 1\n",
    "#                             model.eval()\n",
    "#                             mi_est, _, _ = model(batch_x, batch_y, batch_label)\n",
    "#                             s += mi_est\n",
    "#                             print('test ', mi_est )\n",
    "#                             test_mi_est_values.append(mi_est.item())\n",
    "                        \n",
    "#                         test_mean_mi_est_values.append(s/n)\n",
    "#                     del batch_x, batch_y, batch_label\n",
    "\n",
    "#             #print(\"finish training for %s with true MI value = %f\" % (model.__class__.__name__, mi_value))\n",
    "#             # torch.save(model.state_dict(), \"./model/%s_%d.pt\" % (model.__class__.__name__, int(mi_value)))\n",
    "\n",
    "#             if torch.cuda.is_available():\n",
    "#                 torch.cuda.empty_cache()\n",
    "\n",
    "#         # end_time = time.time()\n",
    "#         # time_cost = end_time - start_time\n",
    "#         # print(\"model %s average time cost is %f s\" % (model_name, time_cost / total_steps))\n",
    "#         # mi_results[model_name] = mi_est_values\n",
    "#         # plt.plot(mi_est_values)\n",
    "#         # plt.plot(test_mi_est_values)\n",
    "# plt.plot(test_mean_mi_est_values,color='r')\n",
    "# plt.show()"
   ]
  },
  {
   "cell_type": "code",
   "execution_count": 13,
   "metadata": {},
   "outputs": [],
   "source": [
    "class CLUB(nn.Module):  # CLUB: Mutual Information Contrastive Learning Upper Bound\n",
    "    '''\n",
    "        This class provides the CLUB estimation to I(X,Y)\n",
    "        Method:\n",
    "            forward() :      provides the estimation with input samples\n",
    "            loglikeli() :   provides the log-likelihood of the approximation q(Y|X) with input samples\n",
    "        Arguments:\n",
    "            zc_dim, zd_dim :         the dimensions of samples from X, Y respectively\n",
    "            hidden_size :          the dimension of the hidden layer of the approximation network q(Y|X)\n",
    "            z_c, z_d : samples from X and Y, having shape [sample_size, zc_dim/zd_dim]\n",
    "    '''\n",
    "\n",
    "    def __init__(self, zc_dim, zd_dim): # args,\n",
    "        super(CLUB, self).__init__()\n",
    "        self.use_tanh = False\n",
    "        # self.p_mu = FF(args, zc_dim, zc_dim, zd_dim)\n",
    "        # self.p_logvar = FF(args, zc_dim, zc_dim, zd_dim)\n",
    "        self.p_mu = nn.Sequential(nn.Linear(zc_dim, zd_dim),\n",
    "                                      nn.ReLU(),\n",
    "                                      nn.Linear(zd_dim, zd_dim),\n",
    "                                    )\n",
    "        self.p_logvar = nn.Sequential(nn.Linear(zc_dim, zd_dim),\n",
    "                                      nn.ReLU(),\n",
    "                                      nn.Linear(zd_dim, zd_dim),\n",
    "                                      nn.Tanh())\n",
    "\n",
    "    def get_mu_logvar(self, z_c):\n",
    "        mu = self.p_mu(z_c)\n",
    "        logvar = self.p_logvar(z_c)\n",
    "        if self.use_tanh:\n",
    "            logvar = logvar.tanh()\n",
    "        return mu, logvar\n",
    "\n",
    "    def forward(self, z_c, z_d):\n",
    "        mu, logvar = self.get_mu_logvar(z_c)\n",
    "\n",
    "        # log of conditional probability of positive sample pairs\n",
    "        positive = - (mu - z_d) ** 2 / 2. / logvar.exp()\n",
    "\n",
    "        prediction_1 = mu.unsqueeze(1)  # shape [nsample,1,dim]\n",
    "        z_d_1 = z_d.unsqueeze(0)  # shape [1,nsample,dim]\n",
    "\n",
    "        # log of conditional probability of negative sample pairs\n",
    "        negative = - ((z_d_1 - prediction_1) ** 2).mean(dim=1) / 2. / logvar.exp()\n",
    "        mi = (positive.sum(-1) - negative.sum(-1)).mean()\n",
    "        return mi, 0., 0.\n",
    "\n",
    "    def learning_loss(self, z_c, z_d):  # unnormalized loglikelihood\n",
    "        mu, logvar = self.get_mu_logvar(z_c)\n",
    "        return -(-(mu - z_d) ** 2 / logvar.exp() - logvar).sum(1).mean(0)\n",
    "\n",
    "    def I(self, *args, **kwargs):\n",
    "        return self.forward(*args[:2], **kwargs)[0]\n"
   ]
  },
  {
   "cell_type": "code",
   "execution_count": null,
   "metadata": {},
   "outputs": [],
   "source": []
  },
  {
   "cell_type": "code",
   "execution_count": 14,
   "metadata": {},
   "outputs": [],
   "source": [
    "class MyClub(nn.Module):\n",
    "    def __init__(self,zc_dim, zd_dim, sample=False, *args, **kwargs) -> None:\n",
    "        super().__init__(*args, **kwargs)\n",
    "        self.conv = ConvNet()\n",
    "        if sample:\n",
    "            # self.club = CLUBSample(x_dim=x_dim, y_dim=y_dim, hidden_size=32)\n",
    "            self.club = CLUB(zc_dim=zc_dim, zd_dim=zd_dim)\n",
    "        else:\n",
    "            self.club = CLUB(zc_dim=zc_dim, zd_dim=zd_dim)\n",
    "\n",
    "    def get_mu_logvar(self, z_c):\n",
    "        z_c = self.conv(z_c)\n",
    "        return self.club.get_mu_logvar(z_c)\n",
    "\n",
    "    def forward(self, z_c, z_d):\n",
    "        mu, logvar = self.get_mu_logvar(z_c)\n",
    "\n",
    "        # log of conditional probability of positive sample pairs\n",
    "        positive = - (mu - z_d) ** 2 / 2. / logvar.exp()\n",
    "\n",
    "        prediction_1 = mu.unsqueeze(1)  # shape [nsample,1,dim]\n",
    "        z_d_1 = z_d.unsqueeze(0)  # shape [1,nsample,dim]\n",
    "\n",
    "        # log of conditional probability of negative sample pairs\n",
    "        negative = - ((z_d_1 - prediction_1) ** 2).mean(dim=1) / 2. / logvar.exp()\n",
    "        mi = (positive.sum(-1) - negative.sum(-1)).mean()\n",
    "        return mi, 0., 0.\n",
    "\n",
    "    def learning_loss(self, z_c, z_d):  # unnormalized loglikelihood\n",
    "        mu, logvar = self.get_mu_logvar(z_c)\n",
    "        return -(-(mu - z_d) ** 2 / logvar.exp() - logvar).sum(1).mean(0)\n",
    "\n",
    "    def I(self, *args, **kwargs):\n",
    "        return self.forward(*args[:2], **kwargs)[0]"
   ]
  },
  {
   "cell_type": "code",
   "execution_count": 15,
   "metadata": {},
   "outputs": [],
   "source": [
    "def rho_to_mi(rho, dim):\n",
    "    result = -dim / 2 * np.log(1 - rho ** 2)\n",
    "    return result\n",
    "\n",
    "\n",
    "def mi_to_rho(mi, dim):\n",
    "    result = np.sqrt(1 - np.exp(-2 * mi / dim))\n",
    "    return result"
   ]
  },
  {
   "cell_type": "code",
   "execution_count": 16,
   "metadata": {},
   "outputs": [],
   "source": [
    "import time"
   ]
  },
  {
   "cell_type": "code",
   "execution_count": 17,
   "metadata": {},
   "outputs": [],
   "source": [
    "from myknife import MyKNIFE"
   ]
  },
  {
   "cell_type": "code",
   "execution_count": 18,
   "metadata": {},
   "outputs": [],
   "source": [
    "def main(cubic=True):\n",
    "    # import os\n",
    "    # os.environ['CUDA_VISIBLE_DEVICES'] = '2'\n",
    "\n",
    "    #for seed in [1, 2 ,3, 4, 5, 6, 7, 8]:\n",
    "    # set_seed(seed)\n",
    "    lambda_ = 2\n",
    "\n",
    "    if torch.cuda.is_available():\n",
    "        device = torch.device('cuda')\n",
    "    else:\n",
    "        device = torch.device('cpu')\n",
    "    # suffix = '9.07_{}_{}_{}'.format(cubic, lambda_, seed)\n",
    "    suffix = \"test\"\n",
    "    # sample_dim = 20\n",
    "    batch_size = 64\n",
    "    # hidden_size = 15\n",
    "    learning_rate = 0.001\n",
    "    training_steps = 50_000\n",
    "    model_list =  [\"MyKnife\"]# [\"MyClub\"]  #\"TUBA\", \"KNIFE\" # CLUBSample\n",
    "\n",
    "    mi_list = [2.0] #, 4.0, 6.0, 8.0, 10.0]  # , 12.0, 14.0, 16.0, 18.0, 20.0]\n",
    "\n",
    "    total_steps = training_steps * len(mi_list)\n",
    "    \n",
    "    dataset = MyDataset(X=inputs_ecg,Y=outputs1,labels=torch.tensor(labels))\n",
    "    train_ratio = 0.8\n",
    "    train_size = int(train_ratio * len(dataset))\n",
    "    test_size = len(dataset) - train_size\n",
    "    train_dataset, test_dataset = random_split(dataset, [train_size, test_size])\n",
    "\n",
    "    # Create DataLoaders for the training and testing sets\n",
    "    train_loader = DataLoader(train_dataset, batch_size=batch_size, shuffle=True)\n",
    "    test_loader = DataLoader(test_dataset, batch_size=batch_size, shuffle=False)\n",
    "    test_iter = iter(test_loader)\n",
    "    # train MI estimators with samples\n",
    "\n",
    "    # train MI estimators with samples\n",
    "\n",
    "    mi_results = dict()\n",
    "    for model_name in tqdm(model_list, 'Models'):\n",
    "        if model_name == \"MyClub\":\n",
    "            model = MyClub(zc_dim=32,zd_dim=32)\n",
    "            model.conv = convnet\n",
    "        if model_name == \"MyKnife\":\n",
    "            model = MyKNIFE(32,4)\n",
    "            model.kernel_marg = copy.deepcopy(convnet)\n",
    "            model.kernel_cond = copy.deepcopy(convnet)\n",
    "        # elif model_name == 'Kernel_F':\n",
    "        #     model = MIKernelEstimator(device, sample_dim // 2, sample_dim).to(device)\n",
    "        # elif model_name == 'KNIFE':\n",
    "        #     model = MIKernelEstimator(device, batch_size // 6, sample_dim, sample_dim, use_joint=True).to(device)\n",
    "        # elif model_name == 'DOE':\n",
    "        #     model = eval(model_name)(sample_dim, sample_dim).to(device)\n",
    "        # else:\n",
    "        #     model = eval(model_name)(sample_dim, sample_dim, hidden_size).to(device)\n",
    "        \n",
    "        optimizer = torch.optim.Adam(model.parameters(), learning_rate)\n",
    "\n",
    "        mi_est_values = []\n",
    "        test_mi_est_values = []\n",
    "        test_mean_mi_est_values = []\n",
    "        step = 0\n",
    "        start_time = time.time()\n",
    "        epochs = 60\n",
    "        for epoch in tqdm(range(epochs), 'epoch'):\n",
    "            # rho = mi_to_rho(mi_value, sample_dim)\n",
    "            for batch_x, batch_y, batch_label in train_loader:\n",
    "                # print(batch_x.shape)\n",
    "                # print(batch_y.shape)\n",
    "            # for step in tqdm(range(training_steps), 'Training Loop', position=0, leave=True):\n",
    "            #     batch_x, batch_y = sample_correlated_gaussian(rho, dim=sample_dim, batch_size=batch_size,\n",
    "            #                                                     to_cuda=torch.cuda.is_available(), cubic=cubic)\n",
    "                # batch_x = torch.tensor(batch_x).float().to(device)\n",
    "                # batch_y = torch.tensor(batch_y).float().to(device)\n",
    "                model.eval()\n",
    "                mi_est, _, _ = model(batch_x, batch_y, batch_label)\n",
    "                mi_est_values.append(mi_est.item())\n",
    "\n",
    "                model.train()\n",
    "\n",
    "                model_loss = model.learning_loss(batch_x, batch_y, batch_label)\n",
    "\n",
    "                optimizer.zero_grad()\n",
    "                model_loss.backward()\n",
    "                optimizer.step()\n",
    "\n",
    "                del batch_x, batch_y, batch_label\n",
    "                if torch.cuda.is_available():\n",
    "                    torch.cuda.empty_cache()\n",
    "                \n",
    "                step += 1\n",
    "                if step % 50 == 0:\n",
    "                    step = 0\n",
    "                    with torch.no_grad():\n",
    "                        s = 0.\n",
    "                        n = 0\n",
    "                        for batch_x, batch_y, batch_label in test_loader:\n",
    "                            n += 1\n",
    "                            model.eval()\n",
    "                            mi_est, _, _ = model(batch_x, batch_y, batch_label)\n",
    "                            s += mi_est\n",
    "                            test_mi_est_values.append(mi_est.item())\n",
    "                        test_mean_mi_est_values.append(s/n)\n",
    "                    del batch_x, batch_y, batch_label\n",
    "\n",
    "            #print(\"finish training for %s with true MI value = %f\" % (model.__class__.__name__, mi_value))\n",
    "            # torch.save(model.state_dict(), \"./model/%s_%d.pt\" % (model.__class__.__name__, int(mi_value)))\n",
    "\n",
    "            if torch.cuda.is_available():\n",
    "                torch.cuda.empty_cache()\n",
    "\n",
    "        end_time = time.time()\n",
    "        time_cost = end_time - start_time\n",
    "        print(\"model %s average time cost is %f s\" % (model_name, time_cost / total_steps))\n",
    "        mi_results[model_name] = mi_est_values\n",
    "        # plt.plot(mi_est_values)\n",
    "        # plt.plot(test_mi_est_values)\n",
    "        plt.plot(test_mean_mi_est_values,color='r')\n",
    "        plt.show()\n",
    "\n",
    "    import seaborn as sns\n",
    "    import pandas as pd\n",
    "\n",
    "    colors = sns.color_palette()\n",
    "\n",
    "    EMA_SPAN = 200\n",
    "\n",
    "    ncols = len(model_list)\n",
    "    nrows = 1\n",
    "    fig, axs = plt.subplots(nrows, ncols, figsize=(3.1 * ncols, 3.4 * nrows))\n",
    "    axs = np.ravel(axs)\n",
    "\n",
    "    xaxis = np.array(list(range(total_steps)))\n",
    "    yaxis_mi = np.repeat(mi_list, training_steps)\n",
    "\n",
    "    for i, model_name in enumerate(model_list):\n",
    "        plt.sca(axs[i])\n",
    "        p1 = plt.plot(mi_results[model_name], alpha=0.4, color=colors[0])[0]  # color = 5 or 0\n",
    "        plt.locator_params(axis='y', nbins=5)\n",
    "        plt.locator_params(axis='x', nbins=4)\n",
    "        mis_smooth = pd.Series(mi_results[model_name]).ewm(span=EMA_SPAN).mean()\n",
    "\n",
    "        if i == 0:\n",
    "            plt.plot(mis_smooth, c=p1.get_color(), label='$\\\\hat{I}$')\n",
    "            plt.plot(yaxis_mi, color='k', label='True')\n",
    "            plt.xlabel('Steps', fontsize=25)\n",
    "            plt.ylabel('MI', fontsize=25)\n",
    "            plt.legend(loc='upper left', prop={'size': 15})\n",
    "        else:\n",
    "            plt.plot(mis_smooth, c=p1.get_color())\n",
    "            plt.yticks([])\n",
    "            plt.plot(yaxis_mi, color='k')\n",
    "            plt.xlabel('Steps', fontsize=25)\n",
    "\n",
    "        # plt.ylim(0, 15.5)\n",
    "        plt.xlim(0, total_steps)\n",
    "        plt.title(model_name, fontsize=35)\n",
    "        import matplotlib.ticker as ticker\n",
    "\n",
    "        ax = plt.gca()\n",
    "        ax.xaxis.set_major_formatter(ticker.EngFormatter())\n",
    "        plt.xticks(horizontalalignment=\"right\")\n",
    "        # plt.subplots_adjust( )\n",
    "\n",
    "    plt.gcf().tight_layout()\n",
    "    # plt.savefig('mi_est_Gaussian_{}_copy.pdf'.format(suffix), bbox_inches=None)\n",
    "    # plt.show()\n",
    "\n",
    "    print('Second part')\n",
    "\n",
    "    bias_dict = dict()\n",
    "    var_dict = dict()\n",
    "    mse_dict = dict()\n",
    "    for i, model_name in tqdm(enumerate(model_list)):\n",
    "        bias_list = []\n",
    "        var_list = []\n",
    "        mse_list = []\n",
    "        for j in range(len(mi_list)):\n",
    "            mi_est_values = mi_results[model_name][training_steps * (j + 1) - 500:training_steps * (j + 1)]\n",
    "            est_mean = np.mean(mi_est_values)\n",
    "            bias_list.append(np.abs(mi_list[j] - est_mean))\n",
    "            var_list.append(np.var(mi_est_values))\n",
    "            mse_list.append(bias_list[j] ** 2 + var_list[j])\n",
    "        bias_dict[model_name] = bias_list\n",
    "        var_dict[model_name] = var_list\n",
    "        mse_dict[model_name] = mse_list\n",
    "\n",
    "    # %%\n",
    "\n",
    "    plt.style.use('default')  # ('seaborn-notebook')\n",
    "\n",
    "    colors = list(plt.rcParams['axes.prop_cycle'])\n",
    "    col_idx = [2, 4, 5, 1, 3, 0, 6, 7]\n",
    "\n",
    "    ncols = 1\n",
    "    nrows = 3\n",
    "    fig, axs = plt.subplots(nrows, ncols, figsize=(4.5 * ncols, 3. * nrows))\n",
    "    axs = np.ravel(axs)\n",
    "\n",
    "    for i, model_name in enumerate(model_list):\n",
    "        plt.sca(axs[0])\n",
    "        plt.plot(mi_list, bias_dict[model_name], label=model_name, marker='d', color=colors[col_idx[i]][\"color\"])\n",
    "\n",
    "        plt.sca(axs[1])\n",
    "        plt.plot(mi_list, var_dict[model_name], label=model_name, marker='d', color=colors[col_idx[i]][\"color\"])\n",
    "\n",
    "        plt.sca(axs[2])\n",
    "        plt.plot(mi_list, mse_dict[model_name], label=model_name, marker='d', color=colors[col_idx[i]][\"color\"])\n",
    "\n",
    "    ylabels = ['Bias', 'Variance', 'MSE']\n",
    "    for i in range(3):\n",
    "        plt.sca(axs[i])\n",
    "        plt.ylabel(ylabels[i], fontsize=15)\n",
    "\n",
    "        if i == 0:\n",
    "            if cubic:\n",
    "                plt.title('Cubic', fontsize=17)\n",
    "            else:\n",
    "                plt.title('Gaussian', fontsize=17)\n",
    "        if i == 1:\n",
    "            plt.yscale('log')\n",
    "        if i == 2:\n",
    "            plt.legend(loc='upper left', prop={'size': 12})\n",
    "            plt.xlabel('MI Values', fontsize=15)\n",
    "\n",
    "    plt.gcf().tight_layout()\n",
    "    # plt.savefig('bias_variance_Gaussian_{}.pdf'.format(suffix), bbox_inches='tight')\n",
    "    # plt.show()"
   ]
  },
  {
   "cell_type": "code",
   "execution_count": 19,
   "metadata": {},
   "outputs": [
    {
     "name": "stderr",
     "output_type": "stream",
     "text": [
      "epoch: 100%|██████████| 60/60 [2:17:35<00:00, 137.58s/it]\n"
     ]
    },
    {
     "name": "stdout",
     "output_type": "stream",
     "text": [
      "model MyKnife average time cost is 0.165101 s\n"
     ]
    },
    {
     "data": {
      "image/png": "[encoded data removed]",
      "text/plain": [
       "<Figure size 640x480 with 1 Axes>"
      ]
     },
     "metadata": {},
     "output_type": "display_data"
    },
    {
     "name": "stderr",
     "output_type": "stream",
     "text": [
      "Models: 100%|██████████| 1/1 [2:17:35<00:00, 8255.77s/it]\n"
     ]
    },
    {
     "name": "stdout",
     "output_type": "stream",
     "text": [
      "Second part\n"
     ]
    },
    {
     "name": "stderr",
     "output_type": "stream",
     "text": [
      "0it [00:00, ?it/s]c:\\Users\\aejog\\anaconda3\\Lib\\site-packages\\numpy\\core\\fromnumeric.py:3464: RuntimeWarning: Mean of empty slice.\n",
      "  return _methods._mean(a, axis=axis, dtype=dtype,\n",
      "c:\\Users\\aejog\\anaconda3\\Lib\\site-packages\\numpy\\core\\_methods.py:192: RuntimeWarning: invalid value encountered in scalar divide\n",
      "  ret = ret.dtype.type(ret / rcount)\n",
      "c:\\Users\\aejog\\anaconda3\\Lib\\site-packages\\numpy\\core\\fromnumeric.py:3747: RuntimeWarning: Degrees of freedom <= 0 for slice\n",
      "  return _methods._var(a, axis=axis, dtype=dtype, out=out, ddof=ddof,\n",
      "c:\\Users\\aejog\\anaconda3\\Lib\\site-packages\\numpy\\core\\_methods.py:226: RuntimeWarning: invalid value encountered in divide\n",
      "  arrmean = um.true_divide(arrmean, div, out=arrmean,\n",
      "c:\\Users\\aejog\\anaconda3\\Lib\\site-packages\\numpy\\core\\_methods.py:261: RuntimeWarning: invalid value encountered in scalar divide\n",
      "  ret = ret.dtype.type(ret / rcount)\n",
      "1it [00:00, 124.96it/s]\n"
     ]
    },
    {
     "data": {
      "image/png": "[encoded data removed]",
      "text/plain": [
       "<Figure size 310x340 with 1 Axes>"
      ]
     },
     "metadata": {},
     "output_type": "display_data"
    },
    {
     "data": {
      "image/png": "[encoded data removed]",
      "text/plain": [
       "<Figure size 450x900 with 3 Axes>"
      ]
     },
     "metadata": {},
     "output_type": "display_data"
    }
   ],
   "source": [
    "# main()"
   ]
  }
 ],
 "metadata": {
  "kernelspec": {
   "display_name": "base",
   "language": "python",
   "name": "python3"
  },
  "language_info": {
   "codemirror_mode": {
    "name": "ipython",
    "version": 3
   },
   "file_extension": ".py",
   "mimetype": "text/x-python",
   "name": "python",
   "nbconvert_exporter": "python",
   "pygments_lexer": "ipython3",
   "version": "3.11.5"
  }
 },
 "nbformat": 4,
 "nbformat_minor": 2
}
